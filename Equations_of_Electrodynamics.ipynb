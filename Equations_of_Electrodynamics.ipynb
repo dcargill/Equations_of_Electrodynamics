{
 "metadata": {
  "celltoolbar": "Slideshow",
  "css": [
   ""
  ],
  "name": "",
  "signature": "sha256:25bddd70cfb9a1905e0f73fabbaa23c032a797027cb04a1d1bd16eab9b5805fe"
 },
 "nbformat": 3,
 "nbformat_minor": 0,
 "worksheets": [
  {
   "cells": [
    {
     "cell_type": "markdown",
     "metadata": {
      "slideshow": {
       "slide_type": "slide"
      }
     },
     "source": [
      "<img src=\"images/AF_Symbol_New_Blue.png\"  width=\"25%\" align=\"left\" border=\"4\"><img src=\"images/Air_Force_Research_Laboratory.png\"  width=\"20%\" align=\"right\" border=\"4\">\n"
     ]
    },
    {
     "cell_type": "heading",
     "level": 1,
     "metadata": {},
     "source": [
      "Equations of Electrodynamics:\n",
      "\n",
      "From Maxwell to Helmholtz\n"
     ]
    },
    {
     "cell_type": "markdown",
     "metadata": {},
     "source": [
      "###Dr. Daniel Cargill    (<a href=\"mailto:daniel.cargill@us.af.mil\">daniel.cargill@us.af.mil</a>)\n",
      "\n",
      "###Tau Weekly Meeting: 10/??/14"
     ]
    },
    {
     "cell_type": "markdown",
     "metadata": {},
     "source": [
      "### This talk **focuses** on\n",
      "\n",
      " * #### Deriving Helmholtz from Maxwell\n",
      " \n",
      " \n",
      " * #### Numerical/Analytical Solutions of Deterministic Helmholtz\n",
      " \n",
      " \n",
      " * #### Numercial Methods for Stochastic Helmholtz\n",
      " \n",
      " \n",
      " * #### Rates of Convergence\n",
      "    \n"
     ]
    },
    {
     "cell_type": "code",
     "collapsed": false,
     "input": [
      "import numpy as np\n",
      "import pandas as pd\n",
      "import pandas.io.data as pdd\n",
      "from urllib import urlretrieve\n",
      "from IPython.display import HTML, Image\n",
      "%matplotlib inline"
     ],
     "language": "python",
     "metadata": {
      "slideshow": {
       "slide_type": "skip"
      }
     },
     "outputs": [],
     "prompt_number": 1
    },
    {
     "cell_type": "markdown",
     "metadata": {
      "slideshow": {
       "slide_type": "slide"
      }
     },
     "source": [
      "$$\\newcommand\\der[2]{\\frac{d{#1}}{d{#2}}}\n",
      "\\newcommand\\dder[2]{\\frac{d^2{#1}}{d{#2}^2}}\n",
      "\\newcommand\\ddder[2]{\\frac{d^3{#1}}{d{#2}^3}}\n",
      "\\newcommand\\pder[2]{\\frac{\\partial #1}{\\partial #2}}\n",
      "\\newcommand\\ppder[2]{\\frac{\\partial^2 #1}{\\partial #2^2}}\n",
      "\\newcommand\\pnder[3]{\\frac{\\partial^{#3} #1}{\\partial #2^{#3}}}\n",
      "\\newcommand\\der[2]{\\frac{d{#1}}{d{#2}}}\n",
      "\\newcommand\\dder[2]{\\frac{d^2{#1}}{d{#2}^2}}\n",
      "\\newcommand\\ddder[2]{\\frac{d^3{#1}}{d{#2}^3}}\n",
      "\\newcommand\\pder[2]{\\frac{\\partial #1}{\\partial #2}}\n",
      "\\newcommand\\ppder[2]{\\frac{\\partial^2 #1}{\\partial #2^2}}\n",
      "\\newcommand\\pnder[3]{\\frac{\\partial^{#3} #1}{\\partial #2^{#3}}}\n",
      "\\newcommand\\pdder[3]{\\frac{\\partial^2 #1}{\\partial #2 \\partial #3}}\n",
      "\\newcommand\\pddder[4]{\\frac{\\partial^3 #1}{\\partial #2 \\partial #3 \\partial #4}}\n",
      "\\let\\truesum=\\sum\n",
      "\\def\\sum{\\mathop{\\textstyle\\truesum}\\limits}\n",
      "\\def\\Re#1{\\mathrm{Re}\\hspace{-0.03in}\\left[#1\\right]}\n",
      "\\def\\Im#1{\\mathrm{Im}\\hspace{-0.03in}\\left[#1\\right]}\n",
      "\\def\\bigOh#1{O\\hspace{-0.03in}\\left(#1\\right)}\n",
      "\\def\\littelOh#1{o\\hspace{-0.03in}\\left(#1\\right)}\n",
      "\\def\\conj#1{\\bar{#1}}\n",
      "\\newcommand{\\intl}[4]{\\int_{#3}^{#4} #1 \\, d #2}\n",
      "\\def\\Del#1{\\Delta(#1)}\n",
      "\\def\\del#1{\\delta\\hspace{-0.03in}\\left(#1 \\right)}\n",
      "\\def\\Int#1#2{\\left[\\int #1 \\, d#2\\right]}\n",
      "\\def\\iint{\\int \\int}\n",
      "\\def\\dmin#1#2{\\displaystyle{\\min_{#1}}\\hspace{-0.03in}\\left(#2 \\right)}\n",
      "\\def\\dmax#1#2{\\displaystyle{\\max_{#1}}\\hspace{-0.03in}\\left(#2 \\right)}\n",
      "\\def\\dargmin#1#2{\\displaystyle{{\\mathrm{argmin}}_{#1}}\\hspace{-0.03in}\\left(#2 \\right)}\n",
      "\\def\\dargmax#1#2{\\displaystyle{{\\mathrm{argmax}}_{#1}}\\hspace{-0.03in}\\left(#2 \\right)}\n",
      "\\def\\vect#1{\\mathbf{#1}}\n",
      "\\def\\gvect#1{\\boldsymbol{#1}}\n",
      "\\def\\ip#1#2{\\left \\langle #1,#2 \\right \\rangle}\n",
      "\\def\\Ip#1#2{\\Re{\\int \\conj{#1}\\, #2 \\,dt}}\n",
      "\\def\\adjoint#1{#1^{\\dagger}}\n",
      "\\require{cancel}$$\n",
      "\n",
      "\n",
      "#####Maxwell's system in differential form:\n",
      "<table>\n",
      "<tr>\n",
      "<th>  Maxwell's Equations  </th> <th>  Constitutive Relations</th> <th>  Dielectric boundary conditions </th>\n",
      "<tr>\n",
      "<td> \n",
      "\\begin{equation}\n",
      "\\begin{split}\n",
      "\\nabla \\cdot \\vect{D} &= \\rho_f\\\\ \n",
      "\\nabla \\times \\vect{E} &= -\\pder{\\vect{B}}{t} \\\\\n",
      "\\nabla \\cdot \\vect{B} &= 0    \\\\\n",
      "\\nabla \\times \\vect{H} &= \\vect{J}_f + \\pder{\\vect{D}}{t}\\\\\n",
      "\\end{split}\n",
      "\\end{equation} \n",
      "</td> \n",
      "<td>   \n",
      "\\begin{equation}\n",
      "\\begin{split}\n",
      "  \\vect{D} &= \\epsilon_0 \\vect{E} + \\vect{P}( \\vect{E})\\\\\n",
      "  \\vect{H} &= \\frac{1}{\\mu_0} \\vect{B} - \\vect{M}(\\vect{B})\n",
      "\\end{split}\n",
      "\\end{equation} \n",
      "</td> \n",
      "<td> \n",
      " \\begin{equation}\n",
      "  \\vect{D}_{1}^{\\perp}-\\vect{D}_{2}^{\\perp} = \\sigma_f\n",
      "\\end{equation}\n",
      "\n",
      " \\begin{equation}\n",
      "   \\vect{B}_{1}^{\\perp}-\\vect{B}_{2}^{\\perp} = 0\n",
      "\\end{equation}\n",
      "\n",
      " \\begin{equation}\n",
      "  \\vect{E}_{1}^{\\parallel} -\\vect{E}_{2}^{\\parallel}   = 0 \n",
      "\\end{equation}\n",
      "\n",
      " \\begin{equation}\n",
      "  \\vect{H}_{1}^{\\parallel}-\\vect{H}_{2}^{\\parallel} = \\vect{K}_f \\times \\hat{\\vect{n}}\n",
      "\\end{equation}\n",
      "</td> \n",
      "</table>\n"
     ]
    },
    {
     "cell_type": "markdown",
     "metadata": {
      "slideshow": {
       "slide_type": "subslide"
      }
     },
     "source": [
      "#####Definitions:\n",
      "<table>\n",
      "<tr>\n",
      "<th>  Symbol  </th> <th>   Meaning </th> <th>  SI unit of measure </th>\n",
      "</tr>\n",
      "<tr>\n",
      "<td> $$\\vect{E}$$ </td> <td>  electric field</td> <td>   $$V/m$$ </td>\n",
      "</tr>\n",
      "<tr>\n",
      "<td> $$\\vect{P}$$ </td> <td>   electric polarization </td> <td>  $$N/ (Vm)$$</td>  \n",
      "</tr>\n",
      "<tr>\n",
      "<td> $$\\vect{D}$$ </td> <td>   electric displacement  </td> <td>  $$N/(Vm)$$ </td>\n",
      "</tr>\n",
      "<tr>\n",
      "<td> $$\\vect{B}$$ </td> <td>   magnetic field </td> <td>    $$V s/m^2$$</td> \n",
      "</tr>\n",
      "<tr>\n",
      "<td> $$\\vect{M}$$ </td> <td>   magnetization </td> <td>    $$A/m$$ </td> \n",
      "</tr>\n",
      "<tr>\n",
      "<td> $$\\vect{H}$$ </td> <td>   magnetic displacement </td> <td>   $$A/m$$ </td> \n",
      "</tr>\n",
      "<tr>\n",
      "<td> $$\\vect{J}_f$$ </td> <td>   current density </td> <td>   $$C/(s m^2)$$ </td>\n",
      "</tr>\n",
      "<tr>\n",
      "<td> $$\\vect{K}_f$$ </td> <td>   current surface density </td> <td>   $$C/ s m$$ </td> \n",
      "</tr>\n",
      "<tr>\n",
      "<td> $$\\rho_f$$ </td> <td>  charge density </td> <td>   $$C/ m^3$$</td> \n",
      "</tr>\n",
      "<tr>\n",
      "<td> $$\\sigma_f$$ </td> <td>   surface charge  density</td> <td>  $$C/ m^2$$</td> \n",
      "</tr>\n",
      "<tr>\n",
      " <td> $\\epsilon_0 \\approx 8.8 \\times 10^{-12}$ </td> <td> permitting of free space </td> <td> $$C^2/(Nm^2)$$ </td> \n",
      " </tr>\n",
      "<tr>\n",
      "<td> $$\\mu_0 \\approx 4\\pi \\times 10^{-7}$$ </td> <td>  permeability of free space </td> <td>  $$V s / (A m) $$ </td> \n",
      "</tr>\n",
      "<tr>\n",
      "<td> $$c  \\approx 2.9 \\times 10^{-8}$$ </td> <td>  speed of light in vac   </td> <td>  $$m/s$$</td> \n",
      "</table>"
     ]
    },
    {
     "cell_type": "markdown",
     "metadata": {
      "slideshow": {
       "slide_type": "slide"
      }
     },
     "source": [
      " #####Using the Constitutive Relations and taking **dot** products...\n",
      " \n",
      " \n",
      " \\begin{equation}\n",
      "   \\vect{E} \\cdot \\left(\\nabla \\times \\frac{1}{\\mu_0} \\vect{B}\\right) - \\frac{1}{\\mu_0} \\vect{B} \\cdot \\left(\\nabla \\times \\vect{E}\\right) =\n",
      "   \\vect{E} \\cdot \\left(\\nabla \\times \\vect{M}\\right) +   \\vect{E} \\cdot \\vect{J}_f +  \\vect{E} \\cdot \\pder{\\epsilon_0 \\vect{E}}{t} +  \\vect{E} \\cdot\\pder{\\vect{P}}{t} + \\frac{1}{\\mu_0} \\vect{B} \\pder{\\vect{B}}{t}\n",
      "\\end{equation}\n",
      "\n",
      "\n",
      "#####or \n",
      "\n",
      "\n",
      " \\begin{equation}\n",
      "  \\pder{}{t}\\left(\\frac{\\epsilon_0}{2}  \\vect{E} \\cdot \\vect{E} + \\frac{1}{2\\mu_0}\\vect{B}\\cdot\\vect{B}\\right)\n",
      "  = -\\nabla \\cdot \\left(\\vect{E} \\times \\frac{1}{\\mu_0} \\vect{B}\\right) - \\vect{E} \\cdot \\left( \\vect{J}_f + \\pder{\\vect{P}}{t} + \\left(\\nabla \\times \\vect{M}\\right)\\right)\n",
      "\\end{equation}\n",
      "\n",
      "\n",
      "##### produces conservation (energy density) equation!"
     ]
    },
    {
     "cell_type": "markdown",
     "metadata": {
      "slideshow": {
       "slide_type": "subslide"
      }
     },
     "source": [
      "##### Using the Constitutive Relations and taking **cross** products...\n",
      " \n",
      " \n",
      "\\begin{equation}\n",
      " \\begin{split}\n",
      "   \\epsilon_0 \\nabla \\cdot \\vect{E} +\\nabla \\cdot \\vect{P} &= \\rho_f \\\\\n",
      "  \\nabla \\times \\nabla \\times \\vect{E} & = - \\mu_0\\pder{\\vect{J}_f}{t} -  \\mu_0\\pder{\\left(\\nabla \\times \\vect{M}\\right)}{t} - \\mu_0 \\epsilon_0 \\ppder{\\vect{E}}{t} -\\mu_0\\ppder{\\vect{P}}{t}\\\\\n",
      "   \\nabla \\cdot \\vect{B} &= 0  \\\\\n",
      "   \\nabla \\times \\nabla \\times \\vect{B} &= \\mu_0\\nabla \\times \\nabla \\times \\vect{M} + \\mu_0 \\nabla \\times \\vect{J}_f -  \\mu_0 \\epsilon\\ppder{\\vect{B}}{t}  +\\mu_0 \\pder{\\left(\\nabla \\times\\vect{P}\\right)}{t}\n",
      " \\end{split}\n",
      "\\end{equation}\n",
      "\n",
      "\n",
      "##### and using  $\\nabla \\times \\nabla \\times\\vect{A} = -\\nabla^2\\vect{A} + \\nabla (\\nabla \\cdot \\vect{A})$...\n",
      "\n",
      "\\begin{equation}\n",
      " \\begin{split}\n",
      "   \\nabla \\cdot \\vect{E} &= \\frac{\\rho_f}{\\epsilon_0} - \\frac{1}{\\epsilon_0} \\nabla \\cdot \\vect{P} \\\\\n",
      "  \\nabla^2 \\vect{E} - \\mu_0 \\epsilon_0 \\ppder{\\vect{E}}{t} &= \\mu_0\\pder{\\vect{J}_f}{t} + \\mu_0\\pder{\\left(\\nabla \\times \\vect{M}\\right)}{t} + \\frac{\\nabla \\rho_f}{\\epsilon_0} - \\frac{1}{\\epsilon_0} \\nabla \\left(\\nabla \\cdot \\vect{P} \\right) + \\mu_0\\ppder{\\vect{P}}{t}\\\\\n",
      "   \\nabla \\cdot \\vect{B} &= 0  \\\\\n",
      "   \\nabla^2\\vect{B} - \\mu_0 \\epsilon_0 \\ppder{\\vect{B}}{t} &= -\\mu_0\\nabla \\times \\nabla \\times \\vect{M} - \\mu_0 \\nabla \\times \\vect{J}_f   - \\mu_0 \\pder{\\left(\\nabla \\times\\vect{P}\\right)}{t}\n",
      " \\end{split}\n",
      "\\end{equation}\n",
      "\n",
      "##### produces wave equations!"
     ]
    },
    {
     "cell_type": "markdown",
     "metadata": {
      "slideshow": {
       "slide_type": "slide"
      }
     },
     "source": [
      " #####Lets make some assumptions...\n",
      " \n",
      " * Non-magnetic medium with no free charge: $ \\rho_f = 0$, $\\vect{J}_f = \\vect{0}$, $\\vect{M} = \\vect{0}$\n",
      "\n",
      "\\begin{equation}\n",
      " \\begin{split}\n",
      "   \\nabla \\cdot \\vect{E} &= \\xcancel{\\frac{\\rho_f}{\\epsilon_0}} - \\frac{1}{\\epsilon_0} \\nabla \\cdot \\vect{P} \\\\\n",
      "  \\nabla^2 \\vect{E} - \\mu_0 \\epsilon_0 \\ppder{\\vect{E}}{t} &= \\xcancel{\\mu_0\\pder{\\vect{J}_f}{t}} + \\xcancel{\\mu_0\\pder{\\left(\\nabla \\times \\vect{M}\\right)}{t}} + \\xcancel{\\frac{\\nabla \\rho_f}{\\epsilon_0}} - \\frac{1}{\\epsilon_0} \\nabla \\left(\\nabla \\cdot \\vect{P} \\right) + \\mu_0\\ppder{\\vect{P}}{t}\\\\\n",
      "   \\nabla \\cdot \\vect{B} &= 0  \\\\\n",
      "   \\nabla^2\\vect{B} - \\mu_0 \\epsilon_0 \\ppder{\\vect{B}}{t} &= \\xcancel{-\\mu_0 \\nabla \\times \\nabla \\times \\vect{M}} - \\xcancel{\\mu_0 \\nabla \\times \\vect{J}_f}   - \\mu_0 \\pder{\\left(\\nabla \\times\\vect{P}\\right)}{t}\n",
      " \\end{split}\n",
      "\\end{equation}\n"
     ]
    },
    {
     "cell_type": "markdown",
     "metadata": {
      "slideshow": {
       "slide_type": "subslide"
      }
     },
     "source": [
      " #####Lets make some assumptions...\n",
      " \n",
      " * Non-magnetic medium with no free charge: $ \\rho_f = 0$, $\\vect{J}_f = \\vect{0}$, $\\vect{M} = \\vect{0}$\n",
      "\n",
      " * Instantious and isotropic polarization: $\\vect{P}(\\vect{E}) = \\epsilon_0   \\chi(\\vect{r},t)   \\vect{E}$\n",
      " \n",
      " \\begin{equation}\n",
      " \\begin{split}\n",
      "   \\nabla \\cdot \\vect{E} &= -\\chi\\nabla \\cdot  \\vect{E} -  \\vect{ \\nabla\\chi} \\cdot  \\vect{E}  \\\\\n",
      "  \\nabla^2 \\vect{E} - \\frac{1}{c^2} \\ppder{\\vect{E}}{t} &= - \\nabla \\left(\\nabla \\cdot  \\chi \\vect{E} \\right) + \\frac{1}{c^2} \\ppder{ \\chi \\vect{E}}{t}\\\\\n",
      "   \\nabla \\cdot \\vect{B} &= 0  \\\\\n",
      "   \\nabla^2\\vect{B} - \\frac{1}{c^2}\\ppder{\\vect{B}}{t} &=    -\\frac{1}{c^2} \\pder{\\left(\\nabla \\times \\chi \\vect{E}\\right)}{t}\n",
      " \\end{split}\n",
      "\\end{equation}\n",
      " \n",
      "\n",
      "\n"
     ]
    },
    {
     "cell_type": "code",
     "collapsed": false,
     "input": [],
     "language": "python",
     "metadata": {},
     "outputs": []
    }
   ],
   "metadata": {}
  }
 ]
}