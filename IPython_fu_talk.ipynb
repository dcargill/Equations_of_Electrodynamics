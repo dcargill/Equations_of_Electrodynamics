{
 "metadata": {
  "celltoolbar": "Slideshow",
  "name": "",
  "signature": "sha256:e91987c37081f47d3ba4fd2a3bbf6675992ac57ac23573075d2c455885751e2f"
 },
 "nbformat": 3,
 "nbformat_minor": 0,
 "worksheets": [
  {
   "cells": [
    {
     "cell_type": "heading",
     "level": 1,
     "metadata": {
      "internals": {
       "slide_helper": "subslide_end",
       "slide_type": "subslide"
      },
      "slide_helper": "subslide_end",
      "slideshow": {
       "slide_type": "slide"
      }
     },
     "source": [
      "IPython-fu: el camino de la \"nbconversi\u00f3n\"."
     ]
    },
    {
     "cell_type": "markdown",
     "metadata": {
      "internals": {
       "slide_helper": "subslide_end",
       "slide_type": "subslide"
      },
      "slide_helper": "subslide_end",
      "slideshow": {
       "slide_type": "subslide"
      }
     },
     "source": [
      "<i class=\"icon-user icon-2x\"><strong> [Dami\u00e1n Avila](http://www.damian.oquanta.info)</strong></i>\n",
      "\n",
      "<i class=\"icon-twitter icon-2x\"><strong> [@damian_avila](http://twitter.com/damian_avila)</strong></i>\n",
      "\n",
      "<i class=\"icon-github icon-2x\"><strong> [damianavila](https://github.com/damianavila)</strong></i>\n",
      "\n",
      "<i class=\"icon-envelope-alt icon-2x\"><strong> <a href=\"mailto:info@oquanta.info\">info@oquanta.info</a></strong></i>"
     ]
    },
    {
     "cell_type": "markdown",
     "metadata": {
      "slideshow": {
       "slide_type": "subslide"
      }
     },
     "source": [
      "## CHARLA:\n",
      "\n",
      "## [http://goo.gl/lwQtB0](http://goo.gl/lwQtB0)"
     ]
    },
    {
     "cell_type": "heading",
     "level": 2,
     "metadata": {
      "internals": {
       "slide_type": "subslide"
      },
      "slideshow": {
       "slide_type": "slide"
      }
     },
     "source": [
      "1. El notebook the IPython. "
     ]
    },
    {
     "cell_type": "markdown",
     "metadata": {
      "internals": {},
      "slideshow": {
       "slide_type": "subslide"
      }
     },
     "source": [
      "<img src=\"figs/logo.png\" />"
     ]
    },
    {
     "cell_type": "markdown",
     "metadata": {},
     "source": [
      "## [http://ipython.org/](http://ipython.org/)"
     ]
    },
    {
     "cell_type": "heading",
     "level": 3,
     "metadata": {
      "internals": {
       "slide_type": "subslide"
      },
      "slideshow": {
       "slide_type": "subslide"
      }
     },
     "source": [
      "\u00bfQu\u00e9 es el  notebook the IPython?"
     ]
    },
    {
     "cell_type": "markdown",
     "metadata": {
      "slideshow": {
       "slide_type": "-"
      }
     },
     "source": [
      ">The goal of IPython is to create a comprehensive environment for interactive and exploratory computing."
     ]
    },
    {
     "cell_type": "markdown",
     "metadata": {
      "internals": {
       "slide_helper": "subslide_end"
      },
      "slide_helper": "subslide_end",
      "slideshow": {
       "slide_type": "subslide"
      }
     },
     "source": [
      "Una herramienta para contar **historias**:\n",
      "\n",
      "* metodolog\u00edas\n",
      "* procedimientos\n",
      "* an\u00e1lisis"
     ]
    },
    {
     "cell_type": "markdown",
     "metadata": {
      "internals": {
       "slide_type": "subslide"
      },
      "slideshow": {
       "slide_type": "subslide"
      }
     },
     "source": [
      "T\u00e9cnicamente es una documento basado de JSON:"
     ]
    },
    {
     "cell_type": "code",
     "collapsed": false,
     "input": [
      "from IPython.nbformat import current\n",
      "with open('IPython_fu_talk.ipynb') as f:\n",
      "    nb = current.read(f,'json')\n",
      "    \n",
      "nb.worksheets[0].cells[15:20]"
     ],
     "language": "python",
     "metadata": {
      "internals": {
       "slide_helper": "subslide_end"
      },
      "slide_helper": "subslide_end",
      "slideshow": {
       "slide_type": "-"
      }
     },
     "outputs": [
      {
       "metadata": {},
       "output_type": "pyout",
       "prompt_number": 21,
       "text": [
        "[{u'cell_type': u'markdown',\n",
        "  u'metadata': {u'slideshow': {u'slide_type': u'fragment'}},\n",
        "  u'source': u'* Colaborativo'},\n",
        " {u'cell_type': u'markdown',\n",
        "  u'metadata': {u'internals': {u'slide_helper': u'subslide_end'},\n",
        "   u'slide_helper': u'slide_end',\n",
        "   u'slideshow': {u'slide_type': u'fragment'}},\n",
        "  u'source': u'* Abierto'},\n",
        " {u'cell_type': u'heading',\n",
        "  u'level': 2,\n",
        "  u'metadata': {u'internals': {u'slide_helper': u'subslide_end',\n",
        "    u'slide_type': u'subslide'},\n",
        "   u'slide_helper': u'subslide_end',\n",
        "   u'slideshow': {u'slide_type': u'slide'}},\n",
        "  u'source': u'2. Instalando el notebook de IPython.'},\n",
        " {u'cell_type': u'markdown',\n",
        "  u'metadata': {u'internals': {u'slide_helper': u'subslide_end',\n",
        "    u'slide_type': u'subslide'},\n",
        "   u'slide_helper': u'subslide_end',\n",
        "   u'slideshow': {u'slide_type': u'subslide'}},\n",
        "  u'source': u'**\\xbfQu\\xe9 necesito para hacerlo andar?**\\n\\n* Tornado\\n* ZeroMQ/PyZMQ\\n* Jinja2\\n* Chrome, Firefox, Safari (WebSockets, Flexible Box Model)\\n* Matplotlib para hacer figuras\\n* En linux, mac `pip install ipython[all]` o desde el `source` en **github**.\\n* Instalaci\\xf3n f\\xe1cil (incluyendo instaladores para win): Canopy, Anaconda, Python XY, WinPython, Pyzo\\n* Online: Wakari'},\n",
        " {u'cell_type': u'markdown',\n",
        "  u'metadata': {u'slideshow': {u'slide_type': u'subslide'}},\n",
        "  u'source': u\"**\\xbfC\\xf3mo lo hago andar?**\\n\\n* `cd` en el directorio conteniendo los archivos `ipynb` y simplemente tipeamos:\\n\\n```\\n(ipython_dev)damian@damian-Inspiron-1110:~$ ipython notebook\\n\\n2013-05-10 12:11:26.912 [NotebookApp] Using existing profile dir: u'/home/damian/.config/ipython/profile_default'\\n2013-05-10 12:11:26.937 [NotebookApp] Using MathJax from CDN: http://cdn.mathjax.org/mathjax/latest/MathJax.js\\n2013-05-10 12:11:26.984 [NotebookApp] The port 8888 is already in use, trying another random port.\\n2013-05-10 12:11:26.985 [NotebookApp] Serving notebooks from local directory: /home/damian\\n2013-05-10 12:11:26.985 [NotebookApp] The IPython Notebook is running at: http://127.0.0.1:8888/\\n2013-05-10 12:11:26.986 [NotebookApp] Use Control-C to stop this server and shut down all kernels.\\nSe ha abierto una nueva ventana en la sesi\\xf3n actual del navegador.\\n```\"}]"
       ]
      }
     ],
     "prompt_number": 21
    },
    {
     "cell_type": "markdown",
     "metadata": {
      "internals": {
       "slide_helper": "subslide_end",
       "slide_type": "subslide"
      },
      "slide_helper": "subslide_end",
      "slideshow": {
       "slide_type": "subslide"
      }
     },
     "source": [
      "* Genera archivos con la extensi\u00f3n `.ipynb` que se guardan en el directorio local.\n",
      "* En el notebook podemos almacenar:\n",
      "    * C\u00f3digo\n",
      "    * Texto (Markdown)\n",
      "    * Equaciones (LaTeX)\n",
      "    * Im\u00e1genes\n",
      "    * Videos\n",
      "    * HTML\n",
      "* Puede ser controlado por versiones.\n",
      "* Puede verse sin tener IPython instalado usando NBViewer: http://nbviewer.ipython.org/.\n",
      "* Puede ser exportado a otros formatos: Slides, HTML, Markdown, reStructured Text, LaTeX y PDF."
     ]
    },
    {
     "cell_type": "heading",
     "level": 3,
     "metadata": {
      "internals": {
       "slide_type": "subslide"
      },
      "slideshow": {
       "slide_type": "subslide"
      }
     },
     "source": [
      "\u00bfCu\u00e1les son sus caracter\u00edsticas principales?"
     ]
    },
    {
     "cell_type": "markdown",
     "metadata": {
      "slideshow": {
       "slide_type": "fragment"
      }
     },
     "source": [
      "* Interactivo"
     ]
    },
    {
     "cell_type": "markdown",
     "metadata": {
      "slideshow": {
       "slide_type": "fragment"
      }
     },
     "source": [
      "* Exploratorio"
     ]
    },
    {
     "cell_type": "markdown",
     "metadata": {
      "slideshow": {
       "slide_type": "fragment"
      }
     },
     "source": [
      "* Colaborativo"
     ]
    },
    {
     "cell_type": "markdown",
     "metadata": {
      "internals": {
       "slide_helper": "subslide_end"
      },
      "slide_helper": "slide_end",
      "slideshow": {
       "slide_type": "fragment"
      }
     },
     "source": [
      "* Abierto"
     ]
    },
    {
     "cell_type": "heading",
     "level": 2,
     "metadata": {
      "internals": {
       "slide_helper": "subslide_end",
       "slide_type": "subslide"
      },
      "slide_helper": "subslide_end",
      "slideshow": {
       "slide_type": "slide"
      }
     },
     "source": [
      "2. Instalando el notebook de IPython."
     ]
    },
    {
     "cell_type": "markdown",
     "metadata": {
      "internals": {
       "slide_helper": "subslide_end",
       "slide_type": "subslide"
      },
      "slide_helper": "subslide_end",
      "slideshow": {
       "slide_type": "subslide"
      }
     },
     "source": [
      "**\u00bfQu\u00e9 necesito para hacerlo andar?**\n",
      "\n",
      "* Tornado\n",
      "* ZeroMQ/PyZMQ\n",
      "* Jinja2\n",
      "* Chrome, Firefox, Safari (WebSockets, Flexible Box Model)\n",
      "* Matplotlib para hacer figuras\n",
      "* En linux, mac `pip install ipython[all]` o desde el `source` en **github**.\n",
      "* Instalaci\u00f3n f\u00e1cil (incluyendo instaladores para win): Canopy, Anaconda, Python XY, WinPython, Pyzo\n",
      "* Online: Wakari"
     ]
    },
    {
     "cell_type": "markdown",
     "metadata": {
      "slideshow": {
       "slide_type": "subslide"
      }
     },
     "source": [
      "**\u00bfC\u00f3mo lo hago andar?**\n",
      "\n",
      "* `cd` en el directorio conteniendo los archivos `ipynb` y simplemente tipeamos:\n",
      "\n",
      "```\n",
      "(ipython_dev)damian@damian-Inspiron-1110:~$ ipython notebook\n",
      "\n",
      "2013-05-10 12:11:26.912 [NotebookApp] Using existing profile dir: u'/home/damian/.config/ipython/profile_default'\n",
      "2013-05-10 12:11:26.937 [NotebookApp] Using MathJax from CDN: http://cdn.mathjax.org/mathjax/latest/MathJax.js\n",
      "2013-05-10 12:11:26.984 [NotebookApp] The port 8888 is already in use, trying another random port.\n",
      "2013-05-10 12:11:26.985 [NotebookApp] Serving notebooks from local directory: /home/damian\n",
      "2013-05-10 12:11:26.985 [NotebookApp] The IPython Notebook is running at: http://127.0.0.1:8888/\n",
      "2013-05-10 12:11:26.986 [NotebookApp] Use Control-C to stop this server and shut down all kernels.\n",
      "Se ha abierto una nueva ventana en la sesi\u00f3n actual del navegador.\n",
      "```"
     ]
    },
    {
     "cell_type": "heading",
     "level": 3,
     "metadata": {
      "internals": {
       "slide_type": "subslide"
      },
      "slideshow": {
       "slide_type": "subslide"
      }
     },
     "source": [
      "Interfase de usuario."
     ]
    },
    {
     "cell_type": "markdown",
     "metadata": {
      "slideshow": {
       "slide_type": "-"
      }
     },
     "source": [
      "* Dashboard\n",
      "* Menu\n",
      "* Barra de herramientas\n",
      "* \u00c1rea del notebook y celdas"
     ]
    },
    {
     "cell_type": "heading",
     "level": 3,
     "metadata": {
      "internals": {
       "slide_type": "subslide"
      },
      "slideshow": {
       "slide_type": "subslide"
      }
     },
     "source": [
      "Tipo de celdas"
     ]
    },
    {
     "cell_type": "markdown",
     "metadata": {
      "internals": {
       "slide_helper": "subslide_end"
      },
      "slide_helper": "subslide_end",
      "slideshow": {
       "slide_type": "-"
      }
     },
     "source": [
      "* Code\n",
      "* Markdown\n",
      "* Raw text\n",
      "* Heading"
     ]
    },
    {
     "cell_type": "heading",
     "level": 3,
     "metadata": {
      "internals": {
       "slide_type": "subslide"
      },
      "slideshow": {
       "slide_type": "subslide"
      }
     },
     "source": [
      "\"Shortcuts\" del teclado"
     ]
    },
    {
     "cell_type": "markdown",
     "metadata": {
      "internals": {
       "slide_helper": "subslide_end"
      },
      "slide_helper": "slide_end",
      "slideshow": {
       "slide_type": "-"
      }
     },
     "source": [
      "* `Shift-Enter` para ejecutar una celda\n",
      "* `Ctrl-Enter` para ejecutar una celda y *quedarse* en esa misma celda.\n",
      "* `Alt-Enter` para ejecutar una celda e insertar una nueva celda por debajo de la *ejecutada*.\n",
      "* Todas las otras \"shortcuts\" tienen la forma: `Ctrl-m ?`\n",
      "* Si quer\u00e9s ver las \"shortcuts\" disponibles: `Ctrl-m h`"
     ]
    },
    {
     "cell_type": "heading",
     "level": 2,
     "metadata": {
      "internals": {
       "slide_helper": "subslide_end",
       "slide_type": "subslide"
      },
      "slide_helper": "subslide_end",
      "slideshow": {
       "slide_type": "slide"
      }
     },
     "source": [
      "3. Usando el notebook de IPython."
     ]
    },
    {
     "cell_type": "heading",
     "level": 3,
     "metadata": {
      "internals": {
       "slide_type": "subslide"
      },
      "slideshow": {
       "slide_type": "subslide"
      }
     },
     "source": [
      "Trabajar con c\u00f3dido y correrlo:"
     ]
    },
    {
     "cell_type": "markdown",
     "metadata": {},
     "source": [
      "El cl\u00e1sico `hola mundo`:"
     ]
    },
    {
     "cell_type": "code",
     "collapsed": false,
     "input": [
      "print \"Hola PyConAr 2013\""
     ],
     "language": "python",
     "metadata": {},
     "outputs": [
      {
       "output_type": "stream",
       "stream": "stdout",
       "text": [
        "Hola PyConAr 2013\n"
       ]
      }
     ],
     "prompt_number": 22
    },
    {
     "cell_type": "markdown",
     "metadata": {
      "slideshow": {
       "slide_type": "subslide"
      }
     },
     "source": [
      "La representaci\u00f3n de los objetos es m\u00e1s legible:"
     ]
    },
    {
     "cell_type": "code",
     "collapsed": false,
     "input": [
      "from numpy.random import randn\n",
      "data = {i : randn() for i in range(7)}\n",
      "data"
     ],
     "language": "python",
     "metadata": {},
     "outputs": [
      {
       "metadata": {},
       "output_type": "pyout",
       "prompt_number": 24,
       "text": [
        "{0: -1.5559386191734124,\n",
        " 1: -0.22883040459795134,\n",
        " 2: 0.7866934906402356,\n",
        " 3: 0.8346223846522121,\n",
        " 4: 0.48408823194273726,\n",
        " 5: 0.6985210366705072,\n",
        " 6: -0.24391898106797313}"
       ]
      }
     ],
     "prompt_number": 24
    },
    {
     "cell_type": "markdown",
     "metadata": {},
     "source": [
      "y contrasten contra la siguiente representaci\u00f3n:"
     ]
    },
    {
     "cell_type": "code",
     "collapsed": false,
     "input": [
      ">>> from numpy.random import randn\n",
      ">>> data = {i : randn() for i in range(7)}\n",
      ">>> print data # peque\u00f1a trampa para verlo como se ver\u00eda en consola"
     ],
     "language": "python",
     "metadata": {
      "slideshow": {
       "slide_type": "-"
      }
     },
     "outputs": [
      {
       "output_type": "stream",
       "stream": "stdout",
       "text": [
        "{0: 0.49597053440152944, 1: 2.956985030830885, 2: -0.10441812108706316, 3: 1.0166271809516385, 4: 0.8673598116323529, 5: -0.5907492623504179, 6: 0.6394461101263468}\n"
       ]
      }
     ],
     "prompt_number": 25
    },
    {
     "cell_type": "markdown",
     "metadata": {
      "internals": {
       "slide_type": "subslide"
      },
      "slideshow": {
       "slide_type": "subslide"
      }
     },
     "source": [
      "Puedo probar \"pedacitos\" de c\u00f3digo (por ejemplo de tutoriales):"
     ]
    },
    {
     "cell_type": "code",
     "collapsed": false,
     "input": [
      ">>> the_world_is_flat = 1\n",
      ">>> if the_world_is_flat:\n",
      "...     print \"Be careful not to fall off!\""
     ],
     "language": "python",
     "metadata": {},
     "outputs": [
      {
       "output_type": "stream",
       "stream": "stdout",
       "text": [
        "Be careful not to fall off!\n"
       ]
      }
     ],
     "prompt_number": 26
    },
    {
     "cell_type": "code",
     "collapsed": false,
     "input": [
      "In [5]: [x*x for x in range(5)]"
     ],
     "language": "python",
     "metadata": {
      "internals": {
       "slide_helper": "subslide_end"
      },
      "slide_helper": "subslide_end",
      "slideshow": {
       "slide_type": "-"
      }
     },
     "outputs": [
      {
       "metadata": {},
       "output_type": "pyout",
       "prompt_number": 27,
       "text": [
        "[0, 1, 4, 9, 16]"
       ]
      }
     ],
     "prompt_number": 27
    },
    {
     "cell_type": "markdown",
     "metadata": {
      "internals": {
       "slide_type": "subslide"
      },
      "slideshow": {
       "slide_type": "subslide"
      }
     },
     "source": [
      "Puedo ver los errores o *tracebacks* de una manera simple y visualmente informativa:"
     ]
    },
    {
     "cell_type": "code",
     "collapsed": false,
     "input": [
      "%run non_existent_file"
     ],
     "language": "python",
     "metadata": {
      "internals": {},
      "slideshow": {
       "slide_type": "-"
      }
     },
     "outputs": [
      {
       "output_type": "stream",
       "stream": "stderr",
       "text": [
        "ERROR: File `u'non_existent_file.py'` not found.\n"
       ]
      }
     ],
     "prompt_number": 28
    },
    {
     "cell_type": "code",
     "collapsed": false,
     "input": [
      "x = 1\n",
      "y = 4\n",
      "z = y/(1-x)"
     ],
     "language": "python",
     "metadata": {
      "internals": {
       "slide_helper": "subslide_end"
      },
      "slide_helper": "subslide_end",
      "slideshow": {
       "slide_type": "-"
      }
     },
     "outputs": [
      {
       "ename": "ZeroDivisionError",
       "evalue": "integer division or modulo by zero",
       "output_type": "pyerr",
       "traceback": [
        "\u001b[1;31m---------------------------------------------------------------------------\u001b[0m\n\u001b[1;31mZeroDivisionError\u001b[0m                         Traceback (most recent call last)",
        "\u001b[1;32m<ipython-input-29-dc39888fd1d2>\u001b[0m in \u001b[0;36m<module>\u001b[1;34m()\u001b[0m\n\u001b[0;32m      1\u001b[0m \u001b[0mx\u001b[0m \u001b[1;33m=\u001b[0m \u001b[1;36m1\u001b[0m\u001b[1;33m\u001b[0m\u001b[0m\n\u001b[0;32m      2\u001b[0m \u001b[0my\u001b[0m \u001b[1;33m=\u001b[0m \u001b[1;36m4\u001b[0m\u001b[1;33m\u001b[0m\u001b[0m\n\u001b[1;32m----> 3\u001b[1;33m \u001b[0mz\u001b[0m \u001b[1;33m=\u001b[0m \u001b[0my\u001b[0m\u001b[1;33m/\u001b[0m\u001b[1;33m(\u001b[0m\u001b[1;36m1\u001b[0m\u001b[1;33m-\u001b[0m\u001b[0mx\u001b[0m\u001b[1;33m)\u001b[0m\u001b[1;33m\u001b[0m\u001b[0m\n\u001b[0m",
        "\u001b[1;31mZeroDivisionError\u001b[0m: integer division or modulo by zero"
       ]
      }
     ],
     "prompt_number": 29
    },
    {
     "cell_type": "markdown",
     "metadata": {
      "internals": {
       "slide_type": "subslide"
      },
      "slideshow": {
       "slide_type": "subslide"
      }
     },
     "source": [
      "Otras ventajas a la hora de trabajar con c\u00f3digo:\n",
      "\n",
      "* Completado por Tab"
     ]
    },
    {
     "cell_type": "code",
     "collapsed": false,
     "input": [
      "import scipy as sp"
     ],
     "language": "python",
     "metadata": {
      "slideshow": {
       "slide_type": "-"
      }
     },
     "outputs": [],
     "prompt_number": 30
    },
    {
     "cell_type": "code",
     "collapsed": false,
     "input": [
      "sp."
     ],
     "language": "python",
     "metadata": {
      "internals": {
       "slide_helper": "subslide_end"
      },
      "slide_helper": "subslide_end",
      "slideshow": {
       "slide_type": "-"
      }
     },
     "outputs": [
      {
       "ename": "SyntaxError",
       "evalue": "invalid syntax (<ipython-input-31-ce64790d2965>, line 1)",
       "output_type": "pyerr",
       "traceback": [
        "\u001b[1;36m  File \u001b[1;32m\"<ipython-input-31-ce64790d2965>\"\u001b[1;36m, line \u001b[1;32m1\u001b[0m\n\u001b[1;33m    sp.\u001b[0m\n\u001b[1;37m       ^\u001b[0m\n\u001b[1;31mSyntaxError\u001b[0m\u001b[1;31m:\u001b[0m invalid syntax\n"
       ]
      }
     ],
     "prompt_number": 31
    },
    {
     "cell_type": "markdown",
     "metadata": {
      "slideshow": {
       "slide_type": "subslide"
      }
     },
     "source": [
      "* Ayuda integrada"
     ]
    },
    {
     "cell_type": "code",
     "collapsed": false,
     "input": [
      "?"
     ],
     "language": "python",
     "metadata": {
      "slideshow": {
       "slide_type": "-"
      }
     },
     "outputs": [],
     "prompt_number": 33
    },
    {
     "cell_type": "code",
     "collapsed": false,
     "input": [
      "def suma(a, b):\n",
      "    \"\"\"\n",
      "    Demo de una funci\u00f3n que suma cosas...\n",
      "    \"\"\"\n",
      "    return a + b"
     ],
     "language": "python",
     "metadata": {},
     "outputs": [],
     "prompt_number": 34
    },
    {
     "cell_type": "code",
     "collapsed": false,
     "input": [
      "suma?"
     ],
     "language": "python",
     "metadata": {},
     "outputs": [],
     "prompt_number": 35
    },
    {
     "cell_type": "code",
     "collapsed": false,
     "input": [
      "suma??"
     ],
     "language": "python",
     "metadata": {},
     "outputs": [],
     "prompt_number": 36
    },
    {
     "cell_type": "markdown",
     "metadata": {
      "slideshow": {
       "slide_type": "subslide"
      }
     },
     "source": [
      "* \"Atajos\" interactivos (aliases, magics)"
     ]
    },
    {
     "cell_type": "code",
     "collapsed": false,
     "input": [
      "%magic"
     ],
     "language": "python",
     "metadata": {
      "internals": {
       "slide_type": "subslide"
      },
      "slideshow": {
       "slide_type": "-"
      }
     },
     "outputs": [],
     "prompt_number": 37
    },
    {
     "cell_type": "code",
     "collapsed": false,
     "input": [
      "%lsmagic"
     ],
     "language": "python",
     "metadata": {
      "slideshow": {
       "slide_type": "-"
      }
     },
     "outputs": [
      {
       "json": [
        "{\"cell\": {\"prun\": \"ExecutionMagics\", \"file\": \"Other\", \"!\": \"OSMagics\", \"capture\": \"ExecutionMagics\", \"timeit\": \"ExecutionMagics\", \"script\": \"ScriptMagics\", \"pypy\": \"Other\", \"system\": \"OSMagics\", \"perl\": \"Other\", \"HTML\": \"Other\", \"bash\": \"Other\", \"python\": \"Other\", \"SVG\": \"Other\", \"javascript\": \"DisplayMagics\", \"writefile\": \"OSMagics\", \"ruby\": \"Other\", \"python3\": \"Other\", \"python2\": \"Other\", \"latex\": \"DisplayMagics\", \"sx\": \"OSMagics\", \"svg\": \"DisplayMagics\", \"html\": \"DisplayMagics\", \"sh\": \"Other\", \"time\": \"ExecutionMagics\", \"debug\": \"ExecutionMagics\"}, \"line\": {\"psource\": \"NamespaceMagics\", \"logstart\": \"LoggingMagics\", \"popd\": \"OSMagics\", \"loadpy\": \"CodeMagics\", \"install_ext\": \"ExtensionMagics\", \"colors\": \"BasicMagics\", \"who_ls\": \"NamespaceMagics\", \"lf\": \"Other\", \"install_profiles\": \"DeprecatedMagics\", \"ll\": \"Other\", \"pprint\": \"BasicMagics\", \"lk\": \"Other\", \"ls\": \"Other\", \"save\": \"CodeMagics\", \"tb\": \"ExecutionMagics\", \"lx\": \"Other\", \"pylab\": \"PylabMagics\", \"killbgscripts\": \"ScriptMagics\", \"quickref\": \"BasicMagics\", \"magic\": \"BasicMagics\", \"dhist\": \"OSMagics\", \"edit\": \"KernelMagics\", \"logstop\": \"LoggingMagics\", \"gui\": \"BasicMagics\", \"alias_magic\": \"BasicMagics\", \"debug\": \"ExecutionMagics\", \"page\": \"BasicMagics\", \"logstate\": \"LoggingMagics\", \"ed\": \"Other\", \"pushd\": \"OSMagics\", \"timeit\": \"ExecutionMagics\", \"rehashx\": \"OSMagics\", \"hist\": \"Other\", \"qtconsole\": \"KernelMagics\", \"rm\": \"Other\", \"dirs\": \"OSMagics\", \"run\": \"ExecutionMagics\", \"reset_selective\": \"NamespaceMagics\", \"rep\": \"Other\", \"pinfo2\": \"NamespaceMagics\", \"matplotlib\": \"PylabMagics\", \"unload_ext\": \"ExtensionMagics\", \"doctest_mode\": \"KernelMagics\", \"logoff\": \"LoggingMagics\", \"reload_ext\": \"ExtensionMagics\", \"pdb\": \"ExecutionMagics\", \"load\": \"CodeMagics\", \"lsmagic\": \"BasicMagics\", \"autosave\": \"KernelMagics\", \"cd\": \"OSMagics\", \"pastebin\": \"CodeMagics\", \"prun\": \"ExecutionMagics\", \"cp\": \"Other\", \"autocall\": \"AutoMagics\", \"bookmark\": \"OSMagics\", \"connect_info\": \"KernelMagics\", \"mkdir\": \"Other\", \"system\": \"OSMagics\", \"whos\": \"NamespaceMagics\", \"rmdir\": \"Other\", \"automagic\": \"AutoMagics\", \"store\": \"StoreMagics\", \"more\": \"KernelMagics\", \"pdef\": \"NamespaceMagics\", \"precision\": \"BasicMagics\", \"pinfo\": \"NamespaceMagics\", \"pwd\": \"OSMagics\", \"psearch\": \"NamespaceMagics\", \"reset\": \"NamespaceMagics\", \"recall\": \"HistoryMagics\", \"xdel\": \"NamespaceMagics\", \"xmode\": \"BasicMagics\", \"cat\": \"Other\", \"mv\": \"Other\", \"rerun\": \"HistoryMagics\", \"logon\": \"LoggingMagics\", \"history\": \"HistoryMagics\", \"pycat\": \"OSMagics\", \"unalias\": \"OSMagics\", \"install_default_config\": \"DeprecatedMagics\", \"env\": \"OSMagics\", \"load_ext\": \"ExtensionMagics\", \"config\": \"ConfigMagics\", \"profile\": \"BasicMagics\", \"pfile\": \"NamespaceMagics\", \"less\": \"KernelMagics\", \"who\": \"NamespaceMagics\", \"notebook\": \"BasicMagics\", \"man\": \"KernelMagics\", \"sx\": \"OSMagics\", \"macro\": \"ExecutionMagics\", \"clear\": \"KernelMagics\", \"alias\": \"OSMagics\", \"time\": \"ExecutionMagics\", \"sc\": \"OSMagics\", \"ldir\": \"Other\", \"pdoc\": \"NamespaceMagics\"}}"
       ],
       "metadata": {},
       "output_type": "pyout",
       "prompt_number": 38,
       "text": [
        "Available line magics:\n",
        "%alias  %alias_magic  %autocall  %automagic  %autosave  %bookmark  %cat  %cd  %clear  %colors  %config  %connect_info  %cp  %debug  %dhist  %dirs  %doctest_mode  %ed  %edit  %env  %gui  %hist  %history  %install_default_config  %install_ext  %install_profiles  %killbgscripts  %ldir  %less  %lf  %lk  %ll  %load  %load_ext  %loadpy  %logoff  %logon  %logstart  %logstate  %logstop  %ls  %lsmagic  %lx  %macro  %magic  %man  %matplotlib  %mkdir  %more  %mv  %notebook  %page  %pastebin  %pdb  %pdef  %pdoc  %pfile  %pinfo  %pinfo2  %popd  %pprint  %precision  %profile  %prun  %psearch  %psource  %pushd  %pwd  %pycat  %pylab  %qtconsole  %quickref  %recall  %rehashx  %reload_ext  %rep  %rerun  %reset  %reset_selective  %rm  %rmdir  %run  %save  %sc  %store  %sx  %system  %tb  %time  %timeit  %unalias  %unload_ext  %who  %who_ls  %whos  %xdel  %xmode\n",
        "\n",
        "Available cell magics:\n",
        "%%!  %%HTML  %%SVG  %%bash  %%capture  %%debug  %%file  %%html  %%javascript  %%latex  %%perl  %%prun  %%pypy  %%python  %%python2  %%python3  %%ruby  %%script  %%sh  %%svg  %%sx  %%system  %%time  %%timeit  %%writefile\n",
        "\n",
        "Automagic is ON, % prefix IS NOT needed for line magics."
       ]
      }
     ],
     "prompt_number": 38
    },
    {
     "cell_type": "code",
     "collapsed": false,
     "input": [
      "%quickref"
     ],
     "language": "python",
     "metadata": {
      "slideshow": {
       "slide_type": "-"
      }
     },
     "outputs": [],
     "prompt_number": 39
    },
    {
     "cell_type": "markdown",
     "metadata": {
      "internals": {
       "slide_type": "subslide"
      },
      "slideshow": {
       "slide_type": "subslide"
      }
     },
     "source": [
      "Pero tambien tenemos *cell magics* (`%%`) a trav\u00e9s de las cuales el notebook soporta correr c\u00f3digo en otros lenguajes (entre otras tareas:\n",
      "\n",
      "* R\n",
      "* Octave\n",
      "* Cython\n",
      "* Bash\n",
      "* Perl\n",
      "* Ruby\n",
      "* etc."
     ]
    },
    {
     "cell_type": "markdown",
     "metadata": {
      "slideshow": {
       "slide_type": "subslide"
      }
     },
     "source": [
      "y combinando *magics* las tareas son muy simples:"
     ]
    },
    {
     "cell_type": "code",
     "collapsed": false,
     "input": [
      "%%bash\n",
      "mkdir temporal/\n",
      "touch temporal/mi_programa.py\n",
      "cat temporal/mi_programa.py"
     ],
     "language": "python",
     "metadata": {
      "slideshow": {
       "slide_type": "-"
      }
     },
     "outputs": [],
     "prompt_number": 40
    },
    {
     "cell_type": "code",
     "collapsed": false,
     "input": [
      "%%writefile temporal/mi_programa.py\n",
      "def mi_funcion(x, y):\n",
      "    \"\"\"\n",
      "    Demo\n",
      "    \"\"\"\n",
      "    return x / y\n",
      "\n",
      "x = 4\n",
      "y = 2\n",
      "\n",
      "resultado = mi_funcion(x, y)"
     ],
     "language": "python",
     "metadata": {
      "slideshow": {
       "slide_type": "-"
      }
     },
     "outputs": [
      {
       "output_type": "stream",
       "stream": "stdout",
       "text": [
        "Overwriting temporal/mi_programa.py\n"
       ]
      }
     ],
     "prompt_number": 41
    },
    {
     "cell_type": "code",
     "collapsed": false,
     "input": [
      "%run temporal/mi_programa.py"
     ],
     "language": "python",
     "metadata": {},
     "outputs": [],
     "prompt_number": 42
    },
    {
     "cell_type": "code",
     "collapsed": false,
     "input": [
      "resultado"
     ],
     "language": "python",
     "metadata": {
      "internals": {
       "slide_helper": "subslide_end"
      },
      "slide_helper": "slide_end",
      "slideshow": {
       "slide_type": "-"
      }
     },
     "outputs": [
      {
       "metadata": {},
       "output_type": "pyout",
       "prompt_number": 43,
       "text": [
        "2"
       ]
      }
     ],
     "prompt_number": 43
    },
    {
     "cell_type": "markdown",
     "metadata": {
      "slideshow": {
       "slide_type": "subslide"
      }
     },
     "source": [
      "Puedo interaccionar f\u00e1cilmente con el sistema operativo:"
     ]
    },
    {
     "cell_type": "code",
     "collapsed": false,
     "input": [
      "!pwd"
     ],
     "language": "python",
     "metadata": {},
     "outputs": [
      {
       "output_type": "stream",
       "stream": "stdout",
       "text": [
        "/home/dcargill/AFRL/Maxwells_Equations\r\n"
       ]
      }
     ],
     "prompt_number": 44
    },
    {
     "cell_type": "code",
     "collapsed": false,
     "input": [
      "files = !ls\n",
      "print \"My current directory's files:\"\n",
      "print files"
     ],
     "language": "python",
     "metadata": {},
     "outputs": [
      {
       "output_type": "stream",
       "stream": "stdout",
       "text": [
        "My current directory's files:\n",
        "['custom.css', 'example-slideshow.ipynb', 'example-slideshow.py', 'example-slideshow.slides.html', 'images', 'IPython_fu_talk.ipynb', 'IPython_fu_talk.py', 'IPython_fu_talk.slides.html', 'Maxwells_Equations.ipynb', 'Maxwells_Equations.py', 'Maxwells_Equations.slides.html', 'temporal', 'Untitled0.py', 'YH_FPQ_Volatility_Tutorial.ipynb']\n"
       ]
      }
     ],
     "prompt_number": 45
    },
    {
     "cell_type": "code",
     "collapsed": false,
     "input": [
      "!echo $files"
     ],
     "language": "python",
     "metadata": {},
     "outputs": [
      {
       "output_type": "stream",
       "stream": "stdout",
       "text": [
        "[custom.css, example-slideshow.ipynb, example-slideshow.py, example-slideshow.slides.html, images, IPython_fu_talk.ipynb, IPython_fu_talk.py, IPython_fu_talk.slides.html, Maxwells_Equations.ipynb, Maxwells_Equations.py, Maxwells_Equations.slides.html, temporal, Untitled0.py, YH_FPQ_Volatility_Tutorial.ipynb]\r\n"
       ]
      }
     ],
     "prompt_number": 46
    },
    {
     "cell_type": "code",
     "collapsed": false,
     "input": [
      "!echo {files[0].upper()}"
     ],
     "language": "python",
     "metadata": {},
     "outputs": [
      {
       "output_type": "stream",
       "stream": "stdout",
       "text": [
        "CUSTOM.CSS\r\n"
       ]
      }
     ],
     "prompt_number": 47
    },
    {
     "cell_type": "markdown",
     "metadata": {
      "internals": {},
      "slideshow": {
       "slide_type": "subslide"
      }
     },
     "source": [
      "Por ejemplo, puedo generar figuras program\u00e1ticamente utilizando matplotlib:"
     ]
    },
    {
     "cell_type": "code",
     "collapsed": false,
     "input": [
      "%matplotlib inline\n",
      "import numpy as np\n",
      "import matplotlib.pyplot as plt\n",
      "\n",
      "x = np.linspace(0, 3*np.pi, 500)\n",
      "y = np.sin(x**2)\n",
      "\n",
      "fig = plt.figure()\n",
      "\n",
      "axes = fig.add_axes([0.1, 0.1, 0.8, 0.8])\n",
      "\n",
      "axes.plot(x, y, 'r')\n",
      "\n",
      "axes.set_xlabel('x')\n",
      "axes.set_ylabel('sin x^2')\n",
      "axes.set_title('Una figura simple');"
     ],
     "language": "python",
     "metadata": {
      "internals": {
       "slide_helper": "subslide_end"
      },
      "slide_helper": "subslide_end",
      "slideshow": {
       "slide_type": "-"
      }
     },
     "outputs": [
      {
       "metadata": {},
       "output_type": "display_data",
       "png": "[encoded data removed]",
       "text": [
        "<matplotlib.figure.Figure at 0x7fc9a9e49610>"
       ]
      }
     ],
     "prompt_number": 48
    },
    {
     "cell_type": "heading",
     "level": 3,
     "metadata": {
      "internals": {
       "slide_type": "subslide"
      },
      "slideshow": {
       "slide_type": "slide"
      }
     },
     "source": [
      "Documentar el flujo de trabajo."
     ]
    },
    {
     "cell_type": "markdown",
     "metadata": {
      "internals": {
       "slide_helper": "subslide_end"
      },
      "slide_helper": "subslide_end",
      "slideshow": {
       "slide_type": "-"
      }
     },
     "source": [
      "El texto reendea v\u00eda `Markdown`, por ejemplo puedo tener *italica*, **enf\u00e1sis** o linkear a [google](http://www.google.com).\n",
      "\n",
      "Puedo hacer listas:\n",
      "\n",
      "1. primero\n",
      "2. segundo\n",
      "3. tercero\n",
      "\n",
      "\n",
      "* auto\n",
      "* biblicleta\n",
      "* moto"
     ]
    },
    {
     "cell_type": "markdown",
     "metadata": {
      "internals": {
       "slide_helper": "subslide_end",
       "slide_type": "subslide"
      },
      "slide_helper": "subslide_end",
      "slideshow": {
       "slide_type": "subslide"
      }
     },
     "source": [
      "Puedo embeber c\u00f3digo para demostraci\u00f3n, por ejemplo, para Python:\n",
      "\n",
      "    def f(x):\n",
      "        \"\"\"a docstring\"\"\"\n",
      "        return x**2\n",
      "\n",
      "o para otros lenguajes:\n",
      "\n",
      "    if (i=0; i<n; i++) {\n",
      "      printf(\"hello %d\\n\", i);\n",
      "      x += 4;\n",
      "    }"
     ]
    },
    {
     "cell_type": "markdown",
     "metadata": {
      "internals": {
       "slide_helper": "subslide_end",
       "slide_type": "subslide"
      },
      "slide_helper": "slide_end",
      "slideshow": {
       "slide_type": "subslide"
      }
     },
     "source": [
      "Gracias a MathJax, se pueden incluir expresiones matem\u00e1ticas `inline`: \n",
      "$e^{i\\pi} + 1 = 0$  o en `bloque`:\n",
      "\n",
      "$$e^x=\\sum_{i=0}^\\infty \\frac{1}{i!}x^i$$"
     ]
    },
    {
     "cell_type": "heading",
     "level": 3,
     "metadata": {
      "internals": {
       "slide_type": "subslide"
      },
      "slideshow": {
       "slide_type": "slide"
      }
     },
     "source": [
      "Si el navegador puede mostrarlo..."
     ]
    },
    {
     "cell_type": "code",
     "collapsed": false,
     "input": [
      "from IPython.display import display"
     ],
     "language": "python",
     "metadata": {},
     "outputs": [],
     "prompt_number": 49
    },
    {
     "cell_type": "markdown",
     "metadata": {
      "internals": {},
      "slideshow": {
       "slide_type": "subslide"
      }
     },
     "source": [
      "* Im\u00e1genes:"
     ]
    },
    {
     "cell_type": "code",
     "collapsed": false,
     "input": [
      "from IPython.display import Image\n",
      "Image(filename='pyconar2013_talks/figs/logo.png')"
     ],
     "language": "python",
     "metadata": {
      "slideshow": {
       "slide_type": "-"
      }
     },
     "outputs": [
      {
       "ename": "IOError",
       "evalue": "[Errno 2] No such file or directory: u'pyconar2013_talks/figs/logo.png'",
       "output_type": "pyerr",
       "traceback": [
        "\u001b[1;31m---------------------------------------------------------------------------\u001b[0m\n\u001b[1;31mIOError\u001b[0m                                   Traceback (most recent call last)",
        "\u001b[1;32m<ipython-input-50-0514d401e2b5>\u001b[0m in \u001b[0;36m<module>\u001b[1;34m()\u001b[0m\n\u001b[0;32m      1\u001b[0m \u001b[1;32mfrom\u001b[0m \u001b[0mIPython\u001b[0m\u001b[1;33m.\u001b[0m\u001b[0mdisplay\u001b[0m \u001b[1;32mimport\u001b[0m \u001b[0mImage\u001b[0m\u001b[1;33m\u001b[0m\u001b[0m\n\u001b[1;32m----> 2\u001b[1;33m \u001b[0mImage\u001b[0m\u001b[1;33m(\u001b[0m\u001b[0mfilename\u001b[0m\u001b[1;33m=\u001b[0m\u001b[1;34m'pyconar2013_talks/figs/logo.png'\u001b[0m\u001b[1;33m)\u001b[0m\u001b[1;33m\u001b[0m\u001b[0m\n\u001b[0m",
        "\u001b[1;32m/usr/local/lib/python2.7/dist-packages/IPython/core/display.pyc\u001b[0m in \u001b[0;36m__init__\u001b[1;34m(self, data, url, filename, format, embed, width, height, retina)\u001b[0m\n\u001b[0;32m    644\u001b[0m         \u001b[0mself\u001b[0m\u001b[1;33m.\u001b[0m\u001b[0mheight\u001b[0m \u001b[1;33m=\u001b[0m \u001b[0mheight\u001b[0m\u001b[1;33m\u001b[0m\u001b[0m\n\u001b[0;32m    645\u001b[0m         \u001b[0mself\u001b[0m\u001b[1;33m.\u001b[0m\u001b[0mretina\u001b[0m \u001b[1;33m=\u001b[0m \u001b[0mretina\u001b[0m\u001b[1;33m\u001b[0m\u001b[0m\n\u001b[1;32m--> 646\u001b[1;33m         \u001b[0msuper\u001b[0m\u001b[1;33m(\u001b[0m\u001b[0mImage\u001b[0m\u001b[1;33m,\u001b[0m \u001b[0mself\u001b[0m\u001b[1;33m)\u001b[0m\u001b[1;33m.\u001b[0m\u001b[0m__init__\u001b[0m\u001b[1;33m(\u001b[0m\u001b[0mdata\u001b[0m\u001b[1;33m=\u001b[0m\u001b[0mdata\u001b[0m\u001b[1;33m,\u001b[0m \u001b[0murl\u001b[0m\u001b[1;33m=\u001b[0m\u001b[0murl\u001b[0m\u001b[1;33m,\u001b[0m \u001b[0mfilename\u001b[0m\u001b[1;33m=\u001b[0m\u001b[0mfilename\u001b[0m\u001b[1;33m)\u001b[0m\u001b[1;33m\u001b[0m\u001b[0m\n\u001b[0m\u001b[0;32m    647\u001b[0m \u001b[1;33m\u001b[0m\u001b[0m\n\u001b[0;32m    648\u001b[0m         \u001b[1;32mif\u001b[0m \u001b[0mretina\u001b[0m\u001b[1;33m:\u001b[0m\u001b[1;33m\u001b[0m\u001b[0m\n",
        "\u001b[1;32m/usr/local/lib/python2.7/dist-packages/IPython/core/display.pyc\u001b[0m in \u001b[0;36m__init__\u001b[1;34m(self, data, url, filename)\u001b[0m\n\u001b[0;32m    334\u001b[0m         \u001b[0mself\u001b[0m\u001b[1;33m.\u001b[0m\u001b[0mfilename\u001b[0m \u001b[1;33m=\u001b[0m \u001b[0mNone\u001b[0m \u001b[1;32mif\u001b[0m \u001b[0mfilename\u001b[0m \u001b[1;32mis\u001b[0m \u001b[0mNone\u001b[0m \u001b[1;32melse\u001b[0m \u001b[0municode_type\u001b[0m\u001b[1;33m(\u001b[0m\u001b[0mfilename\u001b[0m\u001b[1;33m)\u001b[0m\u001b[1;33m\u001b[0m\u001b[0m\n\u001b[0;32m    335\u001b[0m \u001b[1;33m\u001b[0m\u001b[0m\n\u001b[1;32m--> 336\u001b[1;33m         \u001b[0mself\u001b[0m\u001b[1;33m.\u001b[0m\u001b[0mreload\u001b[0m\u001b[1;33m(\u001b[0m\u001b[1;33m)\u001b[0m\u001b[1;33m\u001b[0m\u001b[0m\n\u001b[0m\u001b[0;32m    337\u001b[0m         \u001b[0mself\u001b[0m\u001b[1;33m.\u001b[0m\u001b[0m_check_data\u001b[0m\u001b[1;33m(\u001b[0m\u001b[1;33m)\u001b[0m\u001b[1;33m\u001b[0m\u001b[0m\n\u001b[0;32m    338\u001b[0m \u001b[1;33m\u001b[0m\u001b[0m\n",
        "\u001b[1;32m/usr/local/lib/python2.7/dist-packages/IPython/core/display.pyc\u001b[0m in \u001b[0;36mreload\u001b[1;34m(self)\u001b[0m\n\u001b[0;32m    666\u001b[0m         \u001b[1;34m\"\"\"Reload the raw data from file or URL.\"\"\"\u001b[0m\u001b[1;33m\u001b[0m\u001b[0m\n\u001b[0;32m    667\u001b[0m         \u001b[1;32mif\u001b[0m \u001b[0mself\u001b[0m\u001b[1;33m.\u001b[0m\u001b[0membed\u001b[0m\u001b[1;33m:\u001b[0m\u001b[1;33m\u001b[0m\u001b[0m\n\u001b[1;32m--> 668\u001b[1;33m             \u001b[0msuper\u001b[0m\u001b[1;33m(\u001b[0m\u001b[0mImage\u001b[0m\u001b[1;33m,\u001b[0m\u001b[0mself\u001b[0m\u001b[1;33m)\u001b[0m\u001b[1;33m.\u001b[0m\u001b[0mreload\u001b[0m\u001b[1;33m(\u001b[0m\u001b[1;33m)\u001b[0m\u001b[1;33m\u001b[0m\u001b[0m\n\u001b[0m\u001b[0;32m    669\u001b[0m             \u001b[1;32mif\u001b[0m \u001b[0mself\u001b[0m\u001b[1;33m.\u001b[0m\u001b[0mretina\u001b[0m\u001b[1;33m:\u001b[0m\u001b[1;33m\u001b[0m\u001b[0m\n\u001b[0;32m    670\u001b[0m                 \u001b[0mself\u001b[0m\u001b[1;33m.\u001b[0m\u001b[0m_retina_shape\u001b[0m\u001b[1;33m(\u001b[0m\u001b[1;33m)\u001b[0m\u001b[1;33m\u001b[0m\u001b[0m\n",
        "\u001b[1;32m/usr/local/lib/python2.7/dist-packages/IPython/core/display.pyc\u001b[0m in \u001b[0;36mreload\u001b[1;34m(self)\u001b[0m\n\u001b[0;32m    344\u001b[0m         \u001b[1;34m\"\"\"Reload the raw data from file or URL.\"\"\"\u001b[0m\u001b[1;33m\u001b[0m\u001b[0m\n\u001b[0;32m    345\u001b[0m         \u001b[1;32mif\u001b[0m \u001b[0mself\u001b[0m\u001b[1;33m.\u001b[0m\u001b[0mfilename\u001b[0m \u001b[1;32mis\u001b[0m \u001b[1;32mnot\u001b[0m \u001b[0mNone\u001b[0m\u001b[1;33m:\u001b[0m\u001b[1;33m\u001b[0m\u001b[0m\n\u001b[1;32m--> 346\u001b[1;33m             \u001b[1;32mwith\u001b[0m \u001b[0mopen\u001b[0m\u001b[1;33m(\u001b[0m\u001b[0mself\u001b[0m\u001b[1;33m.\u001b[0m\u001b[0mfilename\u001b[0m\u001b[1;33m,\u001b[0m \u001b[0mself\u001b[0m\u001b[1;33m.\u001b[0m\u001b[0m_read_flags\u001b[0m\u001b[1;33m)\u001b[0m \u001b[1;32mas\u001b[0m \u001b[0mf\u001b[0m\u001b[1;33m:\u001b[0m\u001b[1;33m\u001b[0m\u001b[0m\n\u001b[0m\u001b[0;32m    347\u001b[0m                 \u001b[0mself\u001b[0m\u001b[1;33m.\u001b[0m\u001b[0mdata\u001b[0m \u001b[1;33m=\u001b[0m \u001b[0mf\u001b[0m\u001b[1;33m.\u001b[0m\u001b[0mread\u001b[0m\u001b[1;33m(\u001b[0m\u001b[1;33m)\u001b[0m\u001b[1;33m\u001b[0m\u001b[0m\n\u001b[0;32m    348\u001b[0m         \u001b[1;32melif\u001b[0m \u001b[0mself\u001b[0m\u001b[1;33m.\u001b[0m\u001b[0murl\u001b[0m \u001b[1;32mis\u001b[0m \u001b[1;32mnot\u001b[0m \u001b[0mNone\u001b[0m\u001b[1;33m:\u001b[0m\u001b[1;33m\u001b[0m\u001b[0m\n",
        "\u001b[1;31mIOError\u001b[0m: [Errno 2] No such file or directory: u'pyconar2013_talks/figs/logo.png'"
       ]
      }
     ],
     "prompt_number": 50
    },
    {
     "cell_type": "code",
     "collapsed": false,
     "input": [
      "from IPython.display import SVG\n",
      "SVG(filename='pyconar2013_talks/figs/python-logo.svg')"
     ],
     "language": "python",
     "metadata": {
      "slideshow": {
       "slide_type": "-"
      }
     },
     "outputs": [
      {
       "ename": "IOError",
       "evalue": "[Errno 2] No such file or directory: u'pyconar2013_talks/figs/python-logo.svg'",
       "output_type": "pyerr",
       "traceback": [
        "\u001b[1;31m---------------------------------------------------------------------------\u001b[0m\n\u001b[1;31mIOError\u001b[0m                                   Traceback (most recent call last)",
        "\u001b[1;32m<ipython-input-51-75bff3a0502d>\u001b[0m in \u001b[0;36m<module>\u001b[1;34m()\u001b[0m\n\u001b[0;32m      1\u001b[0m \u001b[1;32mfrom\u001b[0m \u001b[0mIPython\u001b[0m\u001b[1;33m.\u001b[0m\u001b[0mdisplay\u001b[0m \u001b[1;32mimport\u001b[0m \u001b[0mSVG\u001b[0m\u001b[1;33m\u001b[0m\u001b[0m\n\u001b[1;32m----> 2\u001b[1;33m \u001b[0mSVG\u001b[0m\u001b[1;33m(\u001b[0m\u001b[0mfilename\u001b[0m\u001b[1;33m=\u001b[0m\u001b[1;34m'pyconar2013_talks/figs/python-logo.svg'\u001b[0m\u001b[1;33m)\u001b[0m\u001b[1;33m\u001b[0m\u001b[0m\n\u001b[0m",
        "\u001b[1;32m/usr/local/lib/python2.7/dist-packages/IPython/core/display.pyc\u001b[0m in \u001b[0;36m__init__\u001b[1;34m(self, data, url, filename)\u001b[0m\n\u001b[0;32m    334\u001b[0m         \u001b[0mself\u001b[0m\u001b[1;33m.\u001b[0m\u001b[0mfilename\u001b[0m \u001b[1;33m=\u001b[0m \u001b[0mNone\u001b[0m \u001b[1;32mif\u001b[0m \u001b[0mfilename\u001b[0m \u001b[1;32mis\u001b[0m \u001b[0mNone\u001b[0m \u001b[1;32melse\u001b[0m \u001b[0municode_type\u001b[0m\u001b[1;33m(\u001b[0m\u001b[0mfilename\u001b[0m\u001b[1;33m)\u001b[0m\u001b[1;33m\u001b[0m\u001b[0m\n\u001b[0;32m    335\u001b[0m \u001b[1;33m\u001b[0m\u001b[0m\n\u001b[1;32m--> 336\u001b[1;33m         \u001b[0mself\u001b[0m\u001b[1;33m.\u001b[0m\u001b[0mreload\u001b[0m\u001b[1;33m(\u001b[0m\u001b[1;33m)\u001b[0m\u001b[1;33m\u001b[0m\u001b[0m\n\u001b[0m\u001b[0;32m    337\u001b[0m         \u001b[0mself\u001b[0m\u001b[1;33m.\u001b[0m\u001b[0m_check_data\u001b[0m\u001b[1;33m(\u001b[0m\u001b[1;33m)\u001b[0m\u001b[1;33m\u001b[0m\u001b[0m\n\u001b[0;32m    338\u001b[0m \u001b[1;33m\u001b[0m\u001b[0m\n",
        "\u001b[1;32m/usr/local/lib/python2.7/dist-packages/IPython/core/display.pyc\u001b[0m in \u001b[0;36mreload\u001b[1;34m(self)\u001b[0m\n\u001b[0;32m    344\u001b[0m         \u001b[1;34m\"\"\"Reload the raw data from file or URL.\"\"\"\u001b[0m\u001b[1;33m\u001b[0m\u001b[0m\n\u001b[0;32m    345\u001b[0m         \u001b[1;32mif\u001b[0m \u001b[0mself\u001b[0m\u001b[1;33m.\u001b[0m\u001b[0mfilename\u001b[0m \u001b[1;32mis\u001b[0m \u001b[1;32mnot\u001b[0m \u001b[0mNone\u001b[0m\u001b[1;33m:\u001b[0m\u001b[1;33m\u001b[0m\u001b[0m\n\u001b[1;32m--> 346\u001b[1;33m             \u001b[1;32mwith\u001b[0m \u001b[0mopen\u001b[0m\u001b[1;33m(\u001b[0m\u001b[0mself\u001b[0m\u001b[1;33m.\u001b[0m\u001b[0mfilename\u001b[0m\u001b[1;33m,\u001b[0m \u001b[0mself\u001b[0m\u001b[1;33m.\u001b[0m\u001b[0m_read_flags\u001b[0m\u001b[1;33m)\u001b[0m \u001b[1;32mas\u001b[0m \u001b[0mf\u001b[0m\u001b[1;33m:\u001b[0m\u001b[1;33m\u001b[0m\u001b[0m\n\u001b[0m\u001b[0;32m    347\u001b[0m                 \u001b[0mself\u001b[0m\u001b[1;33m.\u001b[0m\u001b[0mdata\u001b[0m \u001b[1;33m=\u001b[0m \u001b[0mf\u001b[0m\u001b[1;33m.\u001b[0m\u001b[0mread\u001b[0m\u001b[1;33m(\u001b[0m\u001b[1;33m)\u001b[0m\u001b[1;33m\u001b[0m\u001b[0m\n\u001b[0;32m    348\u001b[0m         \u001b[1;32melif\u001b[0m \u001b[0mself\u001b[0m\u001b[1;33m.\u001b[0m\u001b[0murl\u001b[0m \u001b[1;32mis\u001b[0m \u001b[1;32mnot\u001b[0m \u001b[0mNone\u001b[0m\u001b[1;33m:\u001b[0m\u001b[1;33m\u001b[0m\u001b[0m\n",
        "\u001b[1;31mIOError\u001b[0m: [Errno 2] No such file or directory: u'pyconar2013_talks/figs/python-logo.svg'"
       ]
      }
     ],
     "prompt_number": 51
    },
    {
     "cell_type": "markdown",
     "metadata": {
      "internals": {
       "slide_type": "subslide"
      },
      "slideshow": {
       "slide_type": "subslide"
      }
     },
     "source": [
      "* Video:"
     ]
    },
    {
     "cell_type": "markdown",
     "metadata": {
      "internals": {},
      "slideshow": {
       "slide_type": "-"
      }
     },
     "source": [
      "Puedo cargar y mostrar videos de Youtube, Vimeo, etc..."
     ]
    },
    {
     "cell_type": "code",
     "collapsed": false,
     "input": [
      "from IPython.display import YouTubeVideo\n",
      "YouTubeVideo('MIAKOMzRl1I')"
     ],
     "language": "python",
     "metadata": {
      "internals": {
       "slide_helper": "subslide_end"
      },
      "slide_helper": "subslide_end",
      "slideshow": {
       "slide_type": "-"
      }
     },
     "outputs": [
      {
       "html": [
        "\n",
        "        <iframe\n",
        "            width=\"400\"\n",
        "            height=300\"\n",
        "            src=\"https://www.youtube.com/embed/MIAKOMzRl1I\"\n",
        "            frameborder=\"0\"\n",
        "            allowfullscreen\n",
        "        ></iframe>\n",
        "        "
       ],
       "metadata": {},
       "output_type": "pyout",
       "prompt_number": 58,
       "text": [
        "<IPython.lib.display.YouTubeVideo at 0x7fc9a9ae1410>"
       ]
      }
     ],
     "prompt_number": 58
    },
    {
     "cell_type": "markdown",
     "metadata": {
      "slideshow": {
       "slide_type": "subslide"
      }
     },
     "source": [
      "* HTML"
     ]
    },
    {
     "cell_type": "code",
     "collapsed": false,
     "input": [
      "from IPython.display import HTML\n",
      "\n",
      "s = \"\"\"<table>\n",
      "<tr>\n",
      "<th>Header 1</th>\n",
      "<th>Header 2</th>\n",
      "</tr>\n",
      "<tr>\n",
      "<td>row 1, cell 1</td>\n",
      "<td>row 1, cell 2</td>\n",
      "</tr>\n",
      "<tr>\n",
      "<td>row 2, cell 1</td>\n",
      "<td>row 2, cell 2</td>\n",
      "</tr>\n",
      "</table>\"\"\""
     ],
     "language": "python",
     "metadata": {},
     "outputs": [],
     "prompt_number": 55
    },
    {
     "cell_type": "code",
     "collapsed": false,
     "input": [
      "h = HTML(s)\n",
      "display(h)"
     ],
     "language": "python",
     "metadata": {},
     "outputs": [
      {
       "html": [
        "<table>\n",
        "<tr>\n",
        "<th>Header 1</th>\n",
        "<th>Header 2</th>\n",
        "</tr>\n",
        "<tr>\n",
        "<td>row 1, cell 1</td>\n",
        "<td>row 1, cell 2</td>\n",
        "</tr>\n",
        "<tr>\n",
        "<td>row 2, cell 1</td>\n",
        "<td>row 2, cell 2</td>\n",
        "</tr>\n",
        "</table>"
       ],
       "metadata": {},
       "output_type": "display_data",
       "text": [
        "<IPython.core.display.HTML at 0x7fc9a9ae1390>"
       ]
      }
     ],
     "prompt_number": 56
    },
    {
     "cell_type": "markdown",
     "metadata": {
      "internals": {
       "slide_type": "subslide"
      },
      "slideshow": {
       "slide_type": "subslide"
      }
     },
     "source": [
      "* Sitios web:"
     ]
    },
    {
     "cell_type": "code",
     "collapsed": false,
     "input": [
      "from IPython.display import IFrame\n",
      "IFrame('http://www.damian.oquanta.info',1024,768)"
     ],
     "language": "python",
     "metadata": {
      "internals": {
       "slide_helper": "subslide_end"
      },
      "slide_helper": "subslide_end",
      "slideshow": {
       "slide_type": "-"
      }
     },
     "outputs": [
      {
       "html": [
        "\n",
        "        <iframe\n",
        "            width=\"1024\"\n",
        "            height=768\"\n",
        "            src=\"http://www.damian.oquanta.info\"\n",
        "            frameborder=\"0\"\n",
        "            allowfullscreen\n",
        "        ></iframe>\n",
        "        "
       ],
       "metadata": {},
       "output_type": "pyout",
       "prompt_number": 57,
       "text": [
        "<IPython.lib.display.IFrame at 0x7fc9aa6e0350>"
       ]
      }
     ],
     "prompt_number": 57
    },
    {
     "cell_type": "markdown",
     "metadata": {
      "slideshow": {
       "slide_type": "subslide"
      }
     },
     "source": [
      "* M\u00fasica:"
     ]
    },
    {
     "cell_type": "code",
     "collapsed": false,
     "input": [
      "%load soln/soundcloud.py\n",
      "\n",
      "from IPython.display import HTML\n",
      "h = HTML(\"\"\"<iframe width=\"100%\" height=\"166\" scrolling=\"no\" frameborder=\"no\" src=\"https://w.soundcloud.com/player/?url=http%3A%2F%2Fapi.soundcloud.com%2Ftracks%2F94543639\"></iframe>\"\"\")\n",
      "display(h)"
     ],
     "language": "python",
     "metadata": {},
     "outputs": [
      {
       "ename": "ValueError",
       "evalue": "'soln/soundcloud.py' was not found in history, as a file, url, nor in the user namespace.",
       "output_type": "pyerr",
       "traceback": [
        "\u001b[1;31m---------------------------------------------------------------------------\u001b[0m\n\u001b[1;31mValueError\u001b[0m                                Traceback (most recent call last)",
        "\u001b[1;32m<ipython-input-59-e757498fd336>\u001b[0m in \u001b[0;36m<module>\u001b[1;34m()\u001b[0m\n\u001b[1;32m----> 1\u001b[1;33m \u001b[0mget_ipython\u001b[0m\u001b[1;33m(\u001b[0m\u001b[1;33m)\u001b[0m\u001b[1;33m.\u001b[0m\u001b[0mmagic\u001b[0m\u001b[1;33m(\u001b[0m\u001b[1;34mu'load soln/soundcloud.py'\u001b[0m\u001b[1;33m)\u001b[0m\u001b[1;33m\u001b[0m\u001b[0m\n\u001b[0m\u001b[0;32m      2\u001b[0m \u001b[1;33m\u001b[0m\u001b[0m\n\u001b[0;32m      3\u001b[0m \u001b[1;32mfrom\u001b[0m \u001b[0mIPython\u001b[0m\u001b[1;33m.\u001b[0m\u001b[0mdisplay\u001b[0m \u001b[1;32mimport\u001b[0m \u001b[0mHTML\u001b[0m\u001b[1;33m\u001b[0m\u001b[0m\n\u001b[0;32m      4\u001b[0m \u001b[0mh\u001b[0m \u001b[1;33m=\u001b[0m \u001b[0mHTML\u001b[0m\u001b[1;33m(\u001b[0m\u001b[1;34m\"\"\"<iframe width=\"100%\" height=\"166\" scrolling=\"no\" frameborder=\"no\" src=\"https://w.soundcloud.com/player/?url=http%3A%2F%2Fapi.soundcloud.com%2Ftracks%2F94543639\"></iframe>\"\"\"\u001b[0m\u001b[1;33m)\u001b[0m\u001b[1;33m\u001b[0m\u001b[0m\n\u001b[0;32m      5\u001b[0m \u001b[0mdisplay\u001b[0m\u001b[1;33m(\u001b[0m\u001b[0mh\u001b[0m\u001b[1;33m)\u001b[0m\u001b[1;33m\u001b[0m\u001b[0m\n",
        "\u001b[1;32m/usr/local/lib/python2.7/dist-packages/IPython/core/interactiveshell.pyc\u001b[0m in \u001b[0;36mmagic\u001b[1;34m(self, arg_s)\u001b[0m\n\u001b[0;32m   2203\u001b[0m         \u001b[0mmagic_name\u001b[0m\u001b[1;33m,\u001b[0m \u001b[0m_\u001b[0m\u001b[1;33m,\u001b[0m \u001b[0mmagic_arg_s\u001b[0m \u001b[1;33m=\u001b[0m \u001b[0marg_s\u001b[0m\u001b[1;33m.\u001b[0m\u001b[0mpartition\u001b[0m\u001b[1;33m(\u001b[0m\u001b[1;34m' '\u001b[0m\u001b[1;33m)\u001b[0m\u001b[1;33m\u001b[0m\u001b[0m\n\u001b[0;32m   2204\u001b[0m         \u001b[0mmagic_name\u001b[0m \u001b[1;33m=\u001b[0m \u001b[0mmagic_name\u001b[0m\u001b[1;33m.\u001b[0m\u001b[0mlstrip\u001b[0m\u001b[1;33m(\u001b[0m\u001b[0mprefilter\u001b[0m\u001b[1;33m.\u001b[0m\u001b[0mESC_MAGIC\u001b[0m\u001b[1;33m)\u001b[0m\u001b[1;33m\u001b[0m\u001b[0m\n\u001b[1;32m-> 2205\u001b[1;33m         \u001b[1;32mreturn\u001b[0m \u001b[0mself\u001b[0m\u001b[1;33m.\u001b[0m\u001b[0mrun_line_magic\u001b[0m\u001b[1;33m(\u001b[0m\u001b[0mmagic_name\u001b[0m\u001b[1;33m,\u001b[0m \u001b[0mmagic_arg_s\u001b[0m\u001b[1;33m)\u001b[0m\u001b[1;33m\u001b[0m\u001b[0m\n\u001b[0m\u001b[0;32m   2206\u001b[0m \u001b[1;33m\u001b[0m\u001b[0m\n\u001b[0;32m   2207\u001b[0m     \u001b[1;31m#-------------------------------------------------------------------------\u001b[0m\u001b[1;33m\u001b[0m\u001b[1;33m\u001b[0m\u001b[0m\n",
        "\u001b[1;32m/usr/local/lib/python2.7/dist-packages/IPython/core/interactiveshell.pyc\u001b[0m in \u001b[0;36mrun_line_magic\u001b[1;34m(self, magic_name, line)\u001b[0m\n\u001b[0;32m   2124\u001b[0m                 \u001b[0mkwargs\u001b[0m\u001b[1;33m[\u001b[0m\u001b[1;34m'local_ns'\u001b[0m\u001b[1;33m]\u001b[0m \u001b[1;33m=\u001b[0m \u001b[0msys\u001b[0m\u001b[1;33m.\u001b[0m\u001b[0m_getframe\u001b[0m\u001b[1;33m(\u001b[0m\u001b[0mstack_depth\u001b[0m\u001b[1;33m)\u001b[0m\u001b[1;33m.\u001b[0m\u001b[0mf_locals\u001b[0m\u001b[1;33m\u001b[0m\u001b[0m\n\u001b[0;32m   2125\u001b[0m             \u001b[1;32mwith\u001b[0m \u001b[0mself\u001b[0m\u001b[1;33m.\u001b[0m\u001b[0mbuiltin_trap\u001b[0m\u001b[1;33m:\u001b[0m\u001b[1;33m\u001b[0m\u001b[0m\n\u001b[1;32m-> 2126\u001b[1;33m                 \u001b[0mresult\u001b[0m \u001b[1;33m=\u001b[0m \u001b[0mfn\u001b[0m\u001b[1;33m(\u001b[0m\u001b[1;33m*\u001b[0m\u001b[0margs\u001b[0m\u001b[1;33m,\u001b[0m\u001b[1;33m**\u001b[0m\u001b[0mkwargs\u001b[0m\u001b[1;33m)\u001b[0m\u001b[1;33m\u001b[0m\u001b[0m\n\u001b[0m\u001b[0;32m   2127\u001b[0m             \u001b[1;32mreturn\u001b[0m \u001b[0mresult\u001b[0m\u001b[1;33m\u001b[0m\u001b[0m\n\u001b[0;32m   2128\u001b[0m \u001b[1;33m\u001b[0m\u001b[0m\n",
        "\u001b[1;32m/usr/local/lib/python2.7/dist-packages/IPython/core/magics/code.pyc\u001b[0m in \u001b[0;36mload\u001b[1;34m(self, arg_s)\u001b[0m\n",
        "\u001b[1;32m/usr/local/lib/python2.7/dist-packages/IPython/core/magic.pyc\u001b[0m in \u001b[0;36m<lambda>\u001b[1;34m(f, *a, **k)\u001b[0m\n\u001b[0;32m    191\u001b[0m     \u001b[1;31m# but it's overkill for just that one bit of state.\u001b[0m\u001b[1;33m\u001b[0m\u001b[1;33m\u001b[0m\u001b[0m\n\u001b[0;32m    192\u001b[0m     \u001b[1;32mdef\u001b[0m \u001b[0mmagic_deco\u001b[0m\u001b[1;33m(\u001b[0m\u001b[0marg\u001b[0m\u001b[1;33m)\u001b[0m\u001b[1;33m:\u001b[0m\u001b[1;33m\u001b[0m\u001b[0m\n\u001b[1;32m--> 193\u001b[1;33m         \u001b[0mcall\u001b[0m \u001b[1;33m=\u001b[0m \u001b[1;32mlambda\u001b[0m \u001b[0mf\u001b[0m\u001b[1;33m,\u001b[0m \u001b[1;33m*\u001b[0m\u001b[0ma\u001b[0m\u001b[1;33m,\u001b[0m \u001b[1;33m**\u001b[0m\u001b[0mk\u001b[0m\u001b[1;33m:\u001b[0m \u001b[0mf\u001b[0m\u001b[1;33m(\u001b[0m\u001b[1;33m*\u001b[0m\u001b[0ma\u001b[0m\u001b[1;33m,\u001b[0m \u001b[1;33m**\u001b[0m\u001b[0mk\u001b[0m\u001b[1;33m)\u001b[0m\u001b[1;33m\u001b[0m\u001b[0m\n\u001b[0m\u001b[0;32m    194\u001b[0m \u001b[1;33m\u001b[0m\u001b[0m\n\u001b[0;32m    195\u001b[0m         \u001b[1;32mif\u001b[0m \u001b[0mcallable\u001b[0m\u001b[1;33m(\u001b[0m\u001b[0marg\u001b[0m\u001b[1;33m)\u001b[0m\u001b[1;33m:\u001b[0m\u001b[1;33m\u001b[0m\u001b[0m\n",
        "\u001b[1;32m/usr/local/lib/python2.7/dist-packages/IPython/core/magics/code.pyc\u001b[0m in \u001b[0;36mload\u001b[1;34m(self, arg_s)\u001b[0m\n\u001b[0;32m    305\u001b[0m                              'or macro.')\n\u001b[0;32m    306\u001b[0m \u001b[1;33m\u001b[0m\u001b[0m\n\u001b[1;32m--> 307\u001b[1;33m         \u001b[0mcontents\u001b[0m \u001b[1;33m=\u001b[0m \u001b[0mself\u001b[0m\u001b[1;33m.\u001b[0m\u001b[0mshell\u001b[0m\u001b[1;33m.\u001b[0m\u001b[0mfind_user_code\u001b[0m\u001b[1;33m(\u001b[0m\u001b[0margs\u001b[0m\u001b[1;33m)\u001b[0m\u001b[1;33m\u001b[0m\u001b[0m\n\u001b[0m\u001b[0;32m    308\u001b[0m \u001b[1;33m\u001b[0m\u001b[0m\n\u001b[0;32m    309\u001b[0m         \u001b[1;32mif\u001b[0m \u001b[1;34m's'\u001b[0m \u001b[1;32min\u001b[0m \u001b[0mopts\u001b[0m\u001b[1;33m:\u001b[0m\u001b[1;33m\u001b[0m\u001b[0m\n",
        "\u001b[1;32m/usr/local/lib/python2.7/dist-packages/IPython/core/interactiveshell.pyc\u001b[0m in \u001b[0;36mfind_user_code\u001b[1;34m(self, target, raw, py_only, skip_encoding_cookie)\u001b[0m\n\u001b[0;32m   3162\u001b[0m         \u001b[1;32mexcept\u001b[0m \u001b[0mException\u001b[0m\u001b[1;33m:\u001b[0m\u001b[1;33m\u001b[0m\u001b[0m\n\u001b[0;32m   3163\u001b[0m             raise ValueError((\"'%s' was not found in history, as a file, url, \"\n\u001b[1;32m-> 3164\u001b[1;33m                                 \"nor in the user namespace.\") % target)\n\u001b[0m\u001b[0;32m   3165\u001b[0m         \u001b[1;32mif\u001b[0m \u001b[0misinstance\u001b[0m\u001b[1;33m(\u001b[0m\u001b[0mcodeobj\u001b[0m\u001b[1;33m,\u001b[0m \u001b[0mstring_types\u001b[0m\u001b[1;33m)\u001b[0m\u001b[1;33m:\u001b[0m\u001b[1;33m\u001b[0m\u001b[0m\n\u001b[0;32m   3166\u001b[0m             \u001b[1;32mreturn\u001b[0m \u001b[0mcodeobj\u001b[0m\u001b[1;33m\u001b[0m\u001b[0m\n",
        "\u001b[1;31mValueError\u001b[0m: 'soln/soundcloud.py' was not found in history, as a file, url, nor in the user namespace."
       ]
      }
     ],
     "prompt_number": 59
    },
    {
     "cell_type": "markdown",
     "metadata": {
      "slideshow": {
       "slide_type": "subslide"
      }
     },
     "source": [
      "* Javascript"
     ]
    },
    {
     "cell_type": "code",
     "collapsed": false,
     "input": [
      "from IPython.display import Javascript\n",
      "\n",
      "# fetch d3 from cloudflare\n",
      "Javascript(\"\"\"$.getScript('//cdnjs.cloudflare.com/ajax/libs/d3/3.2.2/d3.v3.min.js')\"\"\")"
     ],
     "language": "python",
     "metadata": {},
     "outputs": [
      {
       "javascript": [
        "$.getScript('//cdnjs.cloudflare.com/ajax/libs/d3/3.2.2/d3.v3.min.js')"
       ],
       "metadata": {},
       "output_type": "pyout",
       "prompt_number": 61,
       "text": [
        "<IPython.core.display.Javascript at 0x7fc9a9cd8f90>"
       ]
      }
     ],
     "prompt_number": 61
    },
    {
     "cell_type": "code",
     "collapsed": false,
     "input": [
      "%%html\n",
      "<style type=\"text/css\">\n",
      "\n",
      "circle {\n",
      "  fill: rgb(31, 119, 180);\n",
      "  fill-opacity: .25;\n",
      "  stroke: rgb(31, 119, 180);\n",
      "  stroke-width: 1px;\n",
      "}\n",
      "\n",
      ".leaf circle {\n",
      "  fill: #ff7f0e;\n",
      "  fill-opacity: 1;\n",
      "}\n",
      "\n",
      "text {\n",
      "  font: 10px sans-serif;\n",
      "}\n",
      "\n",
      "</style>"
     ],
     "language": "python",
     "metadata": {},
     "outputs": [
      {
       "html": [
        "<style type=\"text/css\">\n",
        "\n",
        "circle {\n",
        "  fill: rgb(31, 119, 180);\n",
        "  fill-opacity: .25;\n",
        "  stroke: rgb(31, 119, 180);\n",
        "  stroke-width: 1px;\n",
        "}\n",
        "\n",
        ".leaf circle {\n",
        "  fill: #ff7f0e;\n",
        "  fill-opacity: 1;\n",
        "}\n",
        "\n",
        "text {\n",
        "  font: 10px sans-serif;\n",
        "}\n",
        "\n",
        "</style>"
       ],
       "metadata": {},
       "output_type": "display_data",
       "text": [
        "<IPython.core.display.HTML at 0x7fc9a9d95650>"
       ]
      }
     ],
     "prompt_number": 62
    },
    {
     "cell_type": "code",
     "collapsed": false,
     "input": [
      "%%javascript\n",
      "\n",
      "// This unhides the output area\n",
      "container.show();\n",
      "\n",
      "// element is the jQuery element we will append to\n",
      "var e = element.get(0);\n",
      "    \n",
      "var diameter = 600,\n",
      "    format = d3.format(\",d\");\n",
      "\n",
      "var pack = d3.layout.pack()\n",
      "    .size([diameter - 4, diameter - 4])\n",
      "    .value(function(d) { return d.size; });\n",
      "\n",
      "var svg = d3.select(e).append(\"svg\")\n",
      "    .attr(\"width\", diameter)\n",
      "    .attr(\"height\", diameter)\n",
      "  .append(\"g\")\n",
      "    .attr(\"transform\", \"translate(2,2)\");\n",
      "\n",
      "d3.json(\"files/flare.json\", function(error, root) {\n",
      "  var node = svg.datum(root).selectAll(\".node\")\n",
      "      .data(pack.nodes)\n",
      "    .enter().append(\"g\")\n",
      "      .attr(\"class\", function(d) { return d.children ? \"node\" : \"leaf node\"; })\n",
      "      .attr(\"transform\", function(d) { return \"translate(\" + d.x + \",\" + d.y + \")\"; });\n",
      "\n",
      "  node.append(\"title\")\n",
      "      .text(function(d) { return d.name + (d.children ? \"\" : \": \" + format(d.size)); });\n",
      "\n",
      "  node.append(\"circle\")\n",
      "      .attr(\"r\", function(d) { return d.r; });\n",
      "\n",
      "  node.filter(function(d) { return !d.children; }).append(\"text\")\n",
      "      .attr(\"dy\", \".3em\")\n",
      "      .style(\"text-anchor\", \"middle\")\n",
      "      .text(function(d) { return d.name.substring(0, d.r / 3); });\n",
      "});\n",
      "\n",
      "d3.select(self.frameElement).style(\"height\", diameter + \"px\");"
     ],
     "language": "python",
     "metadata": {
      "slideshow": {
       "slide_type": "subslide"
      }
     },
     "outputs": [
      {
       "javascript": [
        "\n",
        "// This unhides the output area\n",
        "container.show();\n",
        "\n",
        "// element is the jQuery element we will append to\n",
        "var e = element.get(0);\n",
        "    \n",
        "var diameter = 600,\n",
        "    format = d3.format(\",d\");\n",
        "\n",
        "var pack = d3.layout.pack()\n",
        "    .size([diameter - 4, diameter - 4])\n",
        "    .value(function(d) { return d.size; });\n",
        "\n",
        "var svg = d3.select(e).append(\"svg\")\n",
        "    .attr(\"width\", diameter)\n",
        "    .attr(\"height\", diameter)\n",
        "  .append(\"g\")\n",
        "    .attr(\"transform\", \"translate(2,2)\");\n",
        "\n",
        "d3.json(\"files/flare.json\", function(error, root) {\n",
        "  var node = svg.datum(root).selectAll(\".node\")\n",
        "      .data(pack.nodes)\n",
        "    .enter().append(\"g\")\n",
        "      .attr(\"class\", function(d) { return d.children ? \"node\" : \"leaf node\"; })\n",
        "      .attr(\"transform\", function(d) { return \"translate(\" + d.x + \",\" + d.y + \")\"; });\n",
        "\n",
        "  node.append(\"title\")\n",
        "      .text(function(d) { return d.name + (d.children ? \"\" : \": \" + format(d.size)); });\n",
        "\n",
        "  node.append(\"circle\")\n",
        "      .attr(\"r\", function(d) { return d.r; });\n",
        "\n",
        "  node.filter(function(d) { return !d.children; }).append(\"text\")\n",
        "      .attr(\"dy\", \".3em\")\n",
        "      .style(\"text-anchor\", \"middle\")\n",
        "      .text(function(d) { return d.name.substring(0, d.r / 3); });\n",
        "});\n",
        "\n",
        "d3.select(self.frameElement).style(\"height\", diameter + \"px\");"
       ],
       "metadata": {},
       "output_type": "display_data",
       "text": [
        "<IPython.core.display.Javascript at 0x7fc9a99e9d10>"
       ]
      }
     ],
     "prompt_number": 63
    },
    {
     "cell_type": "heading",
     "level": 3,
     "metadata": {
      "internals": {
       "slide_type": "subslide"
      },
      "slideshow": {
       "slide_type": "slide"
      }
     },
     "source": [
      "Cargar c\u00f3digo remoto"
     ]
    },
    {
     "cell_type": "code",
     "collapsed": false,
     "input": [
      "%load http://matplotlib.sourceforge.net/mpl_examples/api/collections_demo.py"
     ],
     "language": "python",
     "metadata": {
      "internals": {},
      "slideshow": {
       "slide_type": "-"
      }
     },
     "outputs": [],
     "prompt_number": 64
    },
    {
     "cell_type": "code",
     "collapsed": false,
     "input": [
      "#!/usr/bin/env python\n",
      "'''Demonstration of LineCollection, PolyCollection, and\n",
      "RegularPolyCollection with autoscaling.\n",
      "\n",
      "For the first two subplots, we will use spirals.  Their\n",
      "size will be set in plot units, not data units.  Their positions\n",
      "will be set in data units by using the \"offsets\" and \"transOffset\"\n",
      "kwargs of the LineCollection and PolyCollection.\n",
      "\n",
      "The third subplot will make regular polygons, with the same\n",
      "type of scaling and positioning as in the first two.\n",
      "\n",
      "The last subplot illustrates the use of \"offsets=(xo,yo)\",\n",
      "that is, a single tuple instead of a list of tuples, to generate\n",
      "successively offset curves, with the offset given in data\n",
      "units.  This behavior is available only for the LineCollection.\n",
      "\n",
      "'''\n",
      "\n",
      "import matplotlib.pyplot as plt\n",
      "from matplotlib import collections, transforms\n",
      "from matplotlib.colors import colorConverter\n",
      "import numpy as np\n",
      "\n",
      "nverts = 50\n",
      "npts = 100\n",
      "\n",
      "# Make some spirals\n",
      "r = np.array(range(nverts))\n",
      "theta = np.array(range(nverts)) * (2*np.pi)/(nverts-1)\n",
      "xx = r * np.sin(theta)\n",
      "yy = r * np.cos(theta)\n",
      "spiral = list(zip(xx,yy))\n",
      "\n",
      "# Make some offsets\n",
      "rs = np.random.RandomState([12345678])\n",
      "xo = rs.randn(npts)\n",
      "yo = rs.randn(npts)\n",
      "xyo = list(zip(xo, yo))\n",
      "\n",
      "# Make a list of colors cycling through the rgbcmyk series.\n",
      "colors = [colorConverter.to_rgba(c) for c in ('r','g','b','c','y','m','k')]\n",
      "\n",
      "fig, axes = plt.subplots(2,2)\n",
      "((ax1, ax2), (ax3, ax4)) = axes # unpack the axes\n",
      "\n",
      "\n",
      "col = collections.LineCollection([spiral], offsets=xyo,\n",
      "                                transOffset=ax1.transData)\n",
      "trans = fig.dpi_scale_trans + transforms.Affine2D().scale(1.0/72.0)\n",
      "col.set_transform(trans)  # the points to pixels transform\n",
      "    # Note: the first argument to the collection initializer\n",
      "    # must be a list of sequences of x,y tuples; we have only\n",
      "    # one sequence, but we still have to put it in a list.\n",
      "ax1.add_collection(col, autolim=True)\n",
      "    # autolim=True enables autoscaling.  For collections with\n",
      "    # offsets like this, it is neither efficient nor accurate,\n",
      "    # but it is good enough to generate a plot that you can use\n",
      "    # as a starting point.  If you know beforehand the range of\n",
      "    # x and y that you want to show, it is better to set them\n",
      "    # explicitly, leave out the autolim kwarg (or set it to False),\n",
      "    # and omit the 'ax1.autoscale_view()' call below.\n",
      "\n",
      "# Make a transform for the line segments such that their size is\n",
      "# given in points:\n",
      "col.set_color(colors)\n",
      "\n",
      "ax1.autoscale_view()  # See comment above, after ax1.add_collection.\n",
      "ax1.set_title('LineCollection using offsets')\n",
      "\n",
      "\n",
      "# The same data as above, but fill the curves.\n",
      "col = collections.PolyCollection([spiral], offsets=xyo,\n",
      "                                transOffset=ax2.transData)\n",
      "trans = transforms.Affine2D().scale(fig.dpi/72.0)\n",
      "col.set_transform(trans)  # the points to pixels transform\n",
      "ax2.add_collection(col, autolim=True)\n",
      "col.set_color(colors)\n",
      "\n",
      "\n",
      "ax2.autoscale_view()\n",
      "ax2.set_title('PolyCollection using offsets')\n",
      "\n",
      "# 7-sided regular polygons\n",
      "\n",
      "col = collections.RegularPolyCollection(7,\n",
      "                                        sizes = np.fabs(xx)*10.0, offsets=xyo,\n",
      "                                        transOffset=ax3.transData)\n",
      "trans = transforms.Affine2D().scale(fig.dpi/72.0)\n",
      "col.set_transform(trans)  # the points to pixels transform\n",
      "ax3.add_collection(col, autolim=True)\n",
      "col.set_color(colors)\n",
      "ax3.autoscale_view()\n",
      "ax3.set_title('RegularPolyCollection using offsets')\n",
      "\n",
      "\n",
      "# Simulate a series of ocean current profiles, successively\n",
      "# offset by 0.1 m/s so that they form what is sometimes called\n",
      "# a \"waterfall\" plot or a \"stagger\" plot.\n",
      "\n",
      "nverts = 60\n",
      "ncurves = 20\n",
      "offs = (0.1, 0.0)\n",
      "\n",
      "yy = np.linspace(0, 2*np.pi, nverts)\n",
      "ym = np.amax(yy)\n",
      "xx = (0.2 + (ym-yy)/ym)**2 * np.cos(yy-0.4) * 0.5\n",
      "segs = []\n",
      "for i in range(ncurves):\n",
      "    xxx = xx + 0.02*rs.randn(nverts)\n",
      "    curve = list(zip(xxx, yy*100))\n",
      "    segs.append(curve)\n",
      "\n",
      "col = collections.LineCollection(segs, offsets=offs)\n",
      "ax4.add_collection(col, autolim=True)\n",
      "col.set_color(colors)\n",
      "ax4.autoscale_view()\n",
      "ax4.set_title('Successive data offsets')\n",
      "ax4.set_xlabel('Zonal velocity component (m/s)')\n",
      "ax4.set_ylabel('Depth (m)')\n",
      "# Reverse the y-axis so depth increases downward\n",
      "ax4.set_ylim(ax4.get_ylim()[::-1])\n",
      "\n",
      "\n",
      "plt.show()\n",
      "\n",
      "\n"
     ],
     "language": "python",
     "metadata": {},
     "outputs": []
    },
    {
     "cell_type": "code",
     "collapsed": false,
     "input": [
      "#!/usr/bin/env python\n",
      "'''Demonstration of LineCollection, PolyCollection, and\n",
      "RegularPolyCollection with autoscaling.\n",
      "\n",
      "For the first two subplots, we will use spirals.  Their\n",
      "size will be set in plot units, not data units.  Their positions\n",
      "will be set in data units by using the \"offsets\" and \"transOffset\"\n",
      "kwargs of the LineCollection and PolyCollection.\n",
      "\n",
      "The third subplot will make regular polygons, with the same\n",
      "type of scaling and positioning as in the first two.\n",
      "\n",
      "The last subplot illustrates the use of \"offsets=(xo,yo)\",\n",
      "that is, a single tuple instead of a list of tuples, to generate\n",
      "successively offset curves, with the offset given in data\n",
      "units.  This behavior is available only for the LineCollection.\n",
      "\n",
      "'''\n",
      "\n",
      "import matplotlib.pyplot as plt\n",
      "from matplotlib import collections, transforms\n",
      "from matplotlib.colors import colorConverter\n",
      "import numpy as np\n",
      "\n",
      "nverts = 50\n",
      "npts = 100\n",
      "\n",
      "# Make some spirals\n",
      "r = np.array(range(nverts))\n",
      "theta = np.array(range(nverts)) * (2*np.pi)/(nverts-1)\n",
      "xx = r * np.sin(theta)\n",
      "yy = r * np.cos(theta)\n",
      "spiral = list(zip(xx,yy))\n",
      "\n",
      "# Make some offsets\n",
      "rs = np.random.RandomState([12345678])\n",
      "xo = rs.randn(npts)\n",
      "yo = rs.randn(npts)\n",
      "xyo = list(zip(xo, yo))\n",
      "\n",
      "# Make a list of colors cycling through the rgbcmyk series.\n",
      "colors = [colorConverter.to_rgba(c) for c in ('r','g','b','c','y','m','k')]\n",
      "\n",
      "fig, axes = plt.subplots(2,2)\n",
      "((ax1, ax2), (ax3, ax4)) = axes # unpack the axes\n",
      "\n",
      "\n",
      "col = collections.LineCollection([spiral], offsets=xyo,\n",
      "                                transOffset=ax1.transData)\n",
      "trans = fig.dpi_scale_trans + transforms.Affine2D().scale(1.0/72.0)\n",
      "col.set_transform(trans)  # the points to pixels transform\n",
      "    # Note: the first argument to the collection initializer\n",
      "    # must be a list of sequences of x,y tuples; we have only\n",
      "    # one sequence, but we still have to put it in a list.\n",
      "ax1.add_collection(col, autolim=True)\n",
      "    # autolim=True enables autoscaling.  For collections with\n",
      "    # offsets like this, it is neither efficient nor accurate,\n",
      "    # but it is good enough to generate a plot that you can use\n",
      "    # as a starting point.  If you know beforehand the range of\n",
      "    # x and y that you want to show, it is better to set them\n",
      "    # explicitly, leave out the autolim kwarg (or set it to False),\n",
      "    # and omit the 'ax1.autoscale_view()' call below.\n",
      "\n",
      "# Make a transform for the line segments such that their size is\n",
      "# given in points:\n",
      "col.set_color(colors)\n",
      "\n",
      "ax1.autoscale_view()  # See comment above, after ax1.add_collection.\n",
      "ax1.set_title('LineCollection using offsets')\n",
      "\n",
      "\n",
      "# The same data as above, but fill the curves.\n",
      "col = collections.PolyCollection([spiral], offsets=xyo,\n",
      "                                transOffset=ax2.transData)\n",
      "trans = transforms.Affine2D().scale(fig.dpi/72.0)\n",
      "col.set_transform(trans)  # the points to pixels transform\n",
      "ax2.add_collection(col, autolim=True)\n",
      "col.set_color(colors)\n",
      "\n",
      "\n",
      "ax2.autoscale_view()\n",
      "ax2.set_title('PolyCollection using offsets')\n",
      "\n",
      "# 7-sided regular polygons\n",
      "\n",
      "col = collections.RegularPolyCollection(7,\n",
      "                                        sizes = np.fabs(xx)*10.0, offsets=xyo,\n",
      "                                        transOffset=ax3.transData)\n",
      "trans = transforms.Affine2D().scale(fig.dpi/72.0)\n",
      "col.set_transform(trans)  # the points to pixels transform\n",
      "ax3.add_collection(col, autolim=True)\n",
      "col.set_color(colors)\n",
      "ax3.autoscale_view()\n",
      "ax3.set_title('RegularPolyCollection using offsets')\n",
      "\n",
      "\n",
      "# Simulate a series of ocean current profiles, successively\n",
      "# offset by 0.1 m/s so that they form what is sometimes called\n",
      "# a \"waterfall\" plot or a \"stagger\" plot.\n",
      "\n",
      "nverts = 60\n",
      "ncurves = 20\n",
      "offs = (0.1, 0.0)\n",
      "\n",
      "yy = np.linspace(0, 2*np.pi, nverts)\n",
      "ym = np.amax(yy)\n",
      "xx = (0.2 + (ym-yy)/ym)**2 * np.cos(yy-0.4) * 0.5\n",
      "segs = []\n",
      "for i in range(ncurves):\n",
      "    xxx = xx + 0.02*rs.randn(nverts)\n",
      "    curve = list(zip(xxx, yy*100))\n",
      "    segs.append(curve)\n",
      "\n",
      "col = collections.LineCollection(segs, offsets=offs)\n",
      "ax4.add_collection(col, autolim=True)\n",
      "col.set_color(colors)\n",
      "ax4.autoscale_view()\n",
      "ax4.set_title('Successive data offsets')\n",
      "ax4.set_xlabel('Zonal velocity component (m/s)')\n",
      "ax4.set_ylabel('Depth (m)')\n",
      "# Reverse the y-axis so depth increases downward\n",
      "ax4.set_ylim(ax4.get_ylim()[::-1])\n",
      "\n",
      "\n",
      "plt.show()\n",
      "\n",
      "\n"
     ],
     "language": "python",
     "metadata": {},
     "outputs": [
      {
       "metadata": {},
       "output_type": "display_data",
       "png": "[encoded data removed]",
       "text": [
        "<matplotlib.figure.Figure at 0x7fc9a8107b10>"
       ]
      }
     ],
     "prompt_number": 65
    },
    {
     "cell_type": "heading",
     "level": 3,
     "metadata": {
      "internals": {
       "slide_type": "subslide"
      },
      "slideshow": {
       "slide_type": "slide"
      }
     },
     "source": [
      "Reendeo de LaTeX:"
     ]
    },
    {
     "cell_type": "code",
     "collapsed": false,
     "input": [
      "from IPython.display import Latex\n",
      "Latex(r\"\"\"\\begin{eqnarray}\n",
      "\\nabla \\times \\vec{\\mathbf{B}} -\\, \\frac1c\\, \n",
      "\\frac{\\partial\\vec{\\mathbf{E}}}{\\partial t} & = \\frac{4\\pi}{c}\\vec{\\mathbf{j}} \\\\\n",
      "\\nabla \\cdot \\vec{\\mathbf{E}} & = 4 \\pi \\rho \\\\\n",
      "\\nabla \\times \\vec{\\mathbf{E}}\\, +\\, \\frac1c\\, \n",
      "\\frac{\\partial\\vec{\\mathbf{B}}}{\\partial t} & = \\vec{\\mathbf{0}} \\\\\n",
      "\\nabla \\cdot \\vec{\\mathbf{B}} & = 0 \n",
      "\\end{eqnarray}\"\"\")"
     ],
     "language": "python",
     "metadata": {
      "internals": {
       "slide_helper": "subslide_end"
      },
      "slide_helper": "subslide_end",
      "slideshow": {
       "slide_type": "-"
      }
     },
     "outputs": [
      {
       "latex": [
        "\\begin{eqnarray}\n",
        "\\nabla \\times \\vec{\\mathbf{B}} -\\, \\frac1c\\, \n",
        "\\frac{\\partial\\vec{\\mathbf{E}}}{\\partial t} & = \\frac{4\\pi}{c}\\vec{\\mathbf{j}} \\\\\n",
        "\\nabla \\cdot \\vec{\\mathbf{E}} & = 4 \\pi \\rho \\\\\n",
        "\\nabla \\times \\vec{\\mathbf{E}}\\, +\\, \\frac1c\\, \n",
        "\\frac{\\partial\\vec{\\mathbf{B}}}{\\partial t} & = \\vec{\\mathbf{0}} \\\\\n",
        "\\nabla \\cdot \\vec{\\mathbf{B}} & = 0 \n",
        "\\end{eqnarray}"
       ],
       "metadata": {},
       "output_type": "pyout",
       "prompt_number": 66,
       "text": [
        "<IPython.core.display.Latex at 0x7fc9a9d95ad0>"
       ]
      }
     ],
     "prompt_number": 66
    },
    {
     "cell_type": "heading",
     "level": 3,
     "metadata": {
      "internals": {
       "slide_type": "subslide"
      },
      "slideshow": {
       "slide_type": "slide"
      }
     },
     "source": [
      "Pandas"
     ]
    },
    {
     "cell_type": "code",
     "collapsed": false,
     "input": [
      "import pandas\n",
      "pandas.set_option('display.notebook_repr_html', True)"
     ],
     "language": "python",
     "metadata": {
      "internals": {},
      "slideshow": {
       "slide_type": "-"
      }
     },
     "outputs": [],
     "prompt_number": 67
    },
    {
     "cell_type": "code",
     "collapsed": false,
     "input": [
      "%%writefile data.csv\n",
      "Date,Open,High,Low,Close,Volume,Adj Close\n",
      "2012-06-01,569.16,590.00,548.50,584.00,14077000,581.50\n",
      "2012-05-01,584.90,596.76,522.18,577.73,18827900,575.26\n",
      "2012-04-02,601.83,644.00,555.00,583.98,28759100,581.48\n",
      "2012-03-01,548.17,621.45,516.22,599.55,26486000,596.99\n",
      "2012-02-01,458.41,547.61,453.98,542.44,22001000,540.12\n",
      "2012-01-03,409.40,458.24,409.00,456.48,12949100,454.53"
     ],
     "language": "python",
     "metadata": {
      "internals": {},
      "slideshow": {
       "slide_type": "-"
      }
     },
     "outputs": [
      {
       "output_type": "stream",
       "stream": "stdout",
       "text": [
        "Overwriting data.csv\n"
       ]
      }
     ],
     "prompt_number": 69
    },
    {
     "cell_type": "code",
     "collapsed": false,
     "input": [
      "df = pandas.read_csv('data.csv')\n",
      "df"
     ],
     "language": "python",
     "metadata": {
      "internals": {
       "slide_helper": "subslide_end"
      },
      "slide_helper": "slide_end",
      "slideshow": {
       "slide_type": "-"
      }
     },
     "outputs": [
      {
       "html": [
        "<div style=\"max-height:1000px;max-width:1500px;overflow:auto;\">\n",
        "<table border=\"1\" class=\"dataframe\">\n",
        "  <thead>\n",
        "    <tr style=\"text-align: right;\">\n",
        "      <th></th>\n",
        "      <th>Date</th>\n",
        "      <th>Open</th>\n",
        "      <th>High</th>\n",
        "      <th>Low</th>\n",
        "      <th>Close</th>\n",
        "      <th>Volume</th>\n",
        "      <th>Adj Close</th>\n",
        "    </tr>\n",
        "  </thead>\n",
        "  <tbody>\n",
        "    <tr>\n",
        "      <th>0</th>\n",
        "      <td> 2012-06-01</td>\n",
        "      <td> 569.16</td>\n",
        "      <td> 590.00</td>\n",
        "      <td> 548.50</td>\n",
        "      <td> 584.00</td>\n",
        "      <td> 14077000</td>\n",
        "      <td> 581.50</td>\n",
        "    </tr>\n",
        "    <tr>\n",
        "      <th>1</th>\n",
        "      <td> 2012-05-01</td>\n",
        "      <td> 584.90</td>\n",
        "      <td> 596.76</td>\n",
        "      <td> 522.18</td>\n",
        "      <td> 577.73</td>\n",
        "      <td> 18827900</td>\n",
        "      <td> 575.26</td>\n",
        "    </tr>\n",
        "    <tr>\n",
        "      <th>2</th>\n",
        "      <td> 2012-04-02</td>\n",
        "      <td> 601.83</td>\n",
        "      <td> 644.00</td>\n",
        "      <td> 555.00</td>\n",
        "      <td> 583.98</td>\n",
        "      <td> 28759100</td>\n",
        "      <td> 581.48</td>\n",
        "    </tr>\n",
        "    <tr>\n",
        "      <th>3</th>\n",
        "      <td> 2012-03-01</td>\n",
        "      <td> 548.17</td>\n",
        "      <td> 621.45</td>\n",
        "      <td> 516.22</td>\n",
        "      <td> 599.55</td>\n",
        "      <td> 26486000</td>\n",
        "      <td> 596.99</td>\n",
        "    </tr>\n",
        "    <tr>\n",
        "      <th>4</th>\n",
        "      <td> 2012-02-01</td>\n",
        "      <td> 458.41</td>\n",
        "      <td> 547.61</td>\n",
        "      <td> 453.98</td>\n",
        "      <td> 542.44</td>\n",
        "      <td> 22001000</td>\n",
        "      <td> 540.12</td>\n",
        "    </tr>\n",
        "    <tr>\n",
        "      <th>5</th>\n",
        "      <td> 2012-01-03</td>\n",
        "      <td> 409.40</td>\n",
        "      <td> 458.24</td>\n",
        "      <td> 409.00</td>\n",
        "      <td> 456.48</td>\n",
        "      <td> 12949100</td>\n",
        "      <td> 454.53</td>\n",
        "    </tr>\n",
        "  </tbody>\n",
        "</table>\n",
        "<p>6 rows \u00d7 7 columns</p>\n",
        "</div>"
       ],
       "metadata": {},
       "output_type": "pyout",
       "prompt_number": 70,
       "text": [
        "         Date    Open    High     Low   Close    Volume  Adj Close\n",
        "0  2012-06-01  569.16  590.00  548.50  584.00  14077000     581.50\n",
        "1  2012-05-01  584.90  596.76  522.18  577.73  18827900     575.26\n",
        "2  2012-04-02  601.83  644.00  555.00  583.98  28759100     581.48\n",
        "3  2012-03-01  548.17  621.45  516.22  599.55  26486000     596.99\n",
        "4  2012-02-01  458.41  547.61  453.98  542.44  22001000     540.12\n",
        "5  2012-01-03  409.40  458.24  409.00  456.48  12949100     454.53\n",
        "\n",
        "[6 rows x 7 columns]"
       ]
      }
     ],
     "prompt_number": 70
    },
    {
     "cell_type": "heading",
     "level": 3,
     "metadata": {
      "slideshow": {
       "slide_type": "slide"
      }
     },
     "source": [
      "The IPython kernel/client model"
     ]
    },
    {
     "cell_type": "code",
     "collapsed": false,
     "input": [
      "%connect_info"
     ],
     "language": "python",
     "metadata": {},
     "outputs": [
      {
       "output_type": "stream",
       "stream": "stdout",
       "text": [
        "{\n",
        "  \"stdin_port\": 36225, \n",
        "  \"ip\": \"127.0.0.1\", \n",
        "  \"control_port\": 57324, \n",
        "  \"hb_port\": 47108, \n",
        "  \"signature_scheme\": \"hmac-sha256\", \n",
        "  \"key\": \"bb2911f8-9913-40b6-9ac5-eaf3b5728fc5\", \n",
        "  \"shell_port\": 51768, \n",
        "  \"transport\": \"tcp\", \n",
        "  \"iopub_port\": 59116\n",
        "}\n",
        "\n",
        "Paste the above JSON into a file, and connect with:\n",
        "    $> ipython <app> --existing <file>\n",
        "or, if you are local, you can connect with just:\n",
        "    $> ipython <app> --existing kernel-23e27df1-f4b0-4093-ac06-96804c58ac59.json --profile dcargill\n",
        "or even just:\n",
        "    $> ipython <app> --existing --profile dcargill\n",
        "if this is the most recent IPython session you have started.\n"
       ]
      }
     ],
     "prompt_number": 71
    },
    {
     "cell_type": "code",
     "collapsed": false,
     "input": [
      "%qtconsole"
     ],
     "language": "python",
     "metadata": {},
     "outputs": [],
     "prompt_number": 72
    },
    {
     "cell_type": "heading",
     "level": 2,
     "metadata": {
      "slideshow": {
       "slide_type": "slide"
      }
     },
     "source": [
      "4. `nbconvert`"
     ]
    },
    {
     "cell_type": "heading",
     "level": 3,
     "metadata": {},
     "source": [
      "Intro..."
     ]
    },
    {
     "cell_type": "markdown",
     "metadata": {},
     "source": [
      "* `NBConvert` es una biblioteca de *reciente* (`tech preview`) incorporaci\u00f3n al n\u00facleo de IPython, y que permite la *nbconversi\u00f3n* de los notebooks de IPython a otros formatos tales como: `html`, `latex`, `markdown`, `python`, `rst` y  `slides`.\n",
      "\n",
      "* Esta biblioteca esta basada en el sistema de `templates` de Jinja, por lo que modificar los nbconversores (o escribir el propio) no deber\u00eda generar mayores dificultades."
     ]
    },
    {
     "cell_type": "markdown",
     "metadata": {
      "slideshow": {
       "slide_type": "subslide"
      }
     },
     "source": [
      "Para utilizarlo desde la linea de comandos:\n",
      "\n",
      "`$ ipython nbconvert <optiones y argumentos>`\n",
      "\n",
      "y para solicitar ayuda: \n",
      "\n",
      "`$ ipython nbconvert --help` (y si quer\u00e9s m\u00e1s detalle: `--help-all`)."
     ]
    },
    {
     "cell_type": "code",
     "collapsed": false,
     "input": [
      "%%bash\n",
      "ipython nbconvert  IPython_fu_talk.ipynb --to html"
     ],
     "language": "python",
     "metadata": {},
     "outputs": [
      {
       "output_type": "stream",
       "stream": "stderr",
       "text": [
        "[NbConvertApp] Using existing profile dir: u'/home/dcargill/.ipython/profile_default'\n",
        "[NbConvertApp] Converting notebook IPython_fu_talk.ipynb to html\n",
        "[NbConvertApp] Support files will be in IPython_fu_talk_files/\n",
        "[NbConvertApp] Loaded template full.tpl\n",
        "[NbConvertApp] Writing 451256 bytes to IPython_fu_talk.html\n"
       ]
      }
     ],
     "prompt_number": 73
    },
    {
     "cell_type": "heading",
     "level": 3,
     "metadata": {
      "slideshow": {
       "slide_type": "subslide"
      }
     },
     "source": [
      "Slides"
     ]
    },
    {
     "cell_type": "markdown",
     "metadata": {},
     "source": [
      "Este nbconversor genera una presentacion HTML basada en la popular bibloteca Reveal.js\n",
      "\n",
      "* Slides (horizontales).\n",
      "* Subslides (verticales).\n",
      "* Fragmentos.\n",
      "* Transiciones.\n",
      "* Temas.\n",
      "* Notas.\n",
      "* Exportacion a pdf."
     ]
    },
    {
     "cell_type": "code",
     "collapsed": false,
     "input": [
      "%%bash\n",
      "ipython nbconvert IPython_fu_talk.ipynb --to slides"
     ],
     "language": "python",
     "metadata": {},
     "outputs": [
      {
       "output_type": "stream",
       "stream": "stderr",
       "text": [
        "[NbConvertApp] Using existing profile dir: u'/home/dcargill/.ipython/profile_default'\n",
        "[NbConvertApp] Converting notebook IPython_fu_talk.ipynb to slides\n",
        "[NbConvertApp] Support files will be in IPython_fu_talk_files/\n",
        "[NbConvertApp] Loaded template slides_reveal.tpl\n",
        "[NbConvertApp] Writing 455913 bytes to IPython_fu_talk.slides.html\n"
       ]
      }
     ],
     "prompt_number": 74
    },
    {
     "cell_type": "markdown",
     "metadata": {},
     "source": [
      "M\u00e1s info: [http://www.damian.oquanta.info/categories/reveal.html](http://www.damian.oquanta.info/categories/reveal.html)"
     ]
    },
    {
     "cell_type": "heading",
     "level": 3,
     "metadata": {
      "slideshow": {
       "slide_type": "subslide"
      }
     },
     "source": [
      "Usando la api de `nbconvert`... para bloguear con IPython y Nikola."
     ]
    },
    {
     "cell_type": "markdown",
     "metadata": {},
     "source": [
      "Podemos tomar como ejemplo el plugin `ipynb` presente en Nikola:\n",
      "\n",
      "```\n",
      "def compile_html(self, source, dest, is_two_file=True):\n",
      "        if flag is None:\n",
      "            req_missing(['ipython>=1.0.0'], 'build this site (compile ipynb)')\n",
      "        makedirs(os.path.dirname(dest))\n",
      "        HTMLExporter.default_template = 'basic'\n",
      "        c = Config(self.site.config['IPYNB_CONFIG'])\n",
      "        exportHtml = HTMLExporter(config=c)\n",
      "        with codecs.open(dest, \"w+\", \"utf8\") as out_file:\n",
      "            with codecs.open(source, \"r\", \"utf8\") as in_file:\n",
      "                nb = in_file.read()\n",
      "                nb_json = nbformat.reads_json(nb)\n",
      "            (body, resources) = exportHtml.from_notebook_node(nb_json)\n",
      "            out_file.write(body)\n",
      "```            "
     ]
    },
    {
     "cell_type": "markdown",
     "metadata": {
      "slideshow": {
       "slide_type": "subslide"
      }
     },
     "source": [
      "<iframe src=\"http://www.damian.oquanta.info/posts/blogging-with-nikola-and-ipython.html\" width=\"1024\" height=\"768\"></iframe>"
     ]
    },
    {
     "cell_type": "heading",
     "level": 2,
     "metadata": {
      "internals": {
       "slide_type": "subslide"
      },
      "slideshow": {
       "slide_type": "slide"
      }
     },
     "source": [
      "5. Discusi\u00f3n."
     ]
    },
    {
     "cell_type": "markdown",
     "metadata": {},
     "source": [
      "El notebook de IPython provee toda la infraestructura para:"
     ]
    },
    {
     "cell_type": "markdown",
     "metadata": {
      "slideshow": {
       "slide_type": "fragment"
      }
     },
     "source": [
      "1- Obtener **datos**."
     ]
    },
    {
     "cell_type": "markdown",
     "metadata": {
      "slideshow": {
       "slide_type": "fragment"
      }
     },
     "source": [
      "2- **Procesar** los datos obtenidos."
     ]
    },
    {
     "cell_type": "markdown",
     "metadata": {
      "slideshow": {
       "slide_type": "fragment"
      }
     },
     "source": [
      "3- **Visualizar** los datos procesados"
     ]
    },
    {
     "cell_type": "markdown",
     "metadata": {
      "slideshow": {
       "slide_type": "fragment"
      }
     },
     "source": [
      "4- **Elaborar** una **historia**  que se **sustenta** en los datos analizados."
     ]
    },
    {
     "cell_type": "markdown",
     "metadata": {
      "internals": {
       "slide_helper": "subslide_end"
      },
      "slide_helper": "subslide_end",
      "slideshow": {
       "slide_type": "fragment"
      }
     },
     "source": [
      "5- **Comunicar** dicha **historia** (junto con los **datos** y las **visualizaciones** obtenidas)."
     ]
    },
    {
     "cell_type": "heading",
     "level": 2,
     "metadata": {
      "internals": {
       "slide_type": "subslide"
      },
      "slideshow": {
       "slide_type": "slide"
      }
     },
     "source": [
      "6. El fututo del notebook the IPython"
     ]
    },
    {
     "cell_type": "markdown",
     "metadata": {
      "internals": {
       "slide_helper": "subslide_end"
      },
      "slide_helper": "slide_end",
      "slideshow": {
       "slide_type": "-"
      }
     },
     "source": [
      "Para conocer en forma detallada lo lineamientos a futuro: \n",
      "\n",
      "[https://github.com/ipython/ipython/wiki/Roadmap:-IPython](https://github.com/ipython/ipython/wiki/Roadmap:-IPython)\n",
      "\n",
      "* Soporte para multiusuarios\n",
      "* Soporte para m\u00faltiples directorios\n",
      "* Widgets interactivos (js)\n",
      "* Exportaci\u00f3n mejorada de los notebook a otros formatos\n",
      "* Modo presentaci\u00f3n\n",
      "\n",
      "Y no se olviden de pasear por la galer\u00eda de notebooks de IPython disponible en: \n",
      "\n",
      "[https://github.com/ipython/ipython/wiki/A-gallery-of-interesting-IPython-Notebooks](https://github.com/ipython/ipython/wiki/A-gallery-of-interesting-IPython-Notebooks)"
     ]
    },
    {
     "cell_type": "markdown",
     "metadata": {
      "slideshow": {
       "slide_type": "slide"
      }
     },
     "source": [
      "<i class=\"icon-thumbs-up icon-2x\"><strong> [\u00a1GRACIAS!](\u00a1GRACIAS!)</strong></i>\n",
      "\n",
      "<i class=\"icon-user icon-2x\"><strong> [Dami\u00e1n Avila](http://www.damian.oquanta.info)</strong></i>\n",
      "\n",
      "<i class=\"icon-twitter icon-2x\"><strong> [@damian_avila](http://twitter.com/damian_avila)</strong></i>\n",
      "\n",
      "<i class=\"icon-github icon-2x\"><strong> [damianavila](https://github.com/damianavila)</strong></i>\n",
      "\n",
      "<i class=\"icon-envelope-alt icon-2x\"><strong> <a href=\"mailto:info@oquanta.info\">info@oquanta.info</a></strong></i>"
     ]
    },
    {
     "cell_type": "code",
     "collapsed": false,
     "input": [],
     "language": "python",
     "metadata": {},
     "outputs": []
    }
   ],
   "metadata": {}
  }
 ]
}