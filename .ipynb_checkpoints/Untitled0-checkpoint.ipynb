{
 "metadata": {
  "name": "",
  "signature": "sha256:b0c591f52e828ab10a96821878f8a927476541e5a9455d8b5d61533b32f923c1"
 },
 "nbformat": 3,
 "nbformat_minor": 0,
 "worksheets": []
}